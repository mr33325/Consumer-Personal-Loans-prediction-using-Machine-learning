{
 "cells": [
  {
   "cell_type": "markdown",
   "metadata": {},
   "source": [
    "# This project about buiding machine learning models for a data set of customers applying for loan in a bank. The aim is to predict if the bank should approve the loan for a partcular customer or not."
   ]
  },
  {
   "cell_type": "markdown",
   "metadata": {},
   "source": [
    "# Preparing train data"
   ]
  },
  {
   "cell_type": "code",
   "execution_count": 1,
   "metadata": {},
   "outputs": [],
   "source": [
    "# importing packages that we will need through out this project\n",
    "import numpy as np\n",
    "import pandas as pd\n",
    "import matplotlib.pyplot as plt\n",
    "import seaborn as sns"
   ]
  },
  {
   "cell_type": "code",
   "execution_count": 2,
   "metadata": {},
   "outputs": [
    {
     "data": {
      "text/html": [
       "<div>\n",
       "<style scoped>\n",
       "    .dataframe tbody tr th:only-of-type {\n",
       "        vertical-align: middle;\n",
       "    }\n",
       "\n",
       "    .dataframe tbody tr th {\n",
       "        vertical-align: top;\n",
       "    }\n",
       "\n",
       "    .dataframe thead th {\n",
       "        text-align: right;\n",
       "    }\n",
       "</style>\n",
       "<table border=\"1\" class=\"dataframe\">\n",
       "  <thead>\n",
       "    <tr style=\"text-align: right;\">\n",
       "      <th></th>\n",
       "      <th>Sex</th>\n",
       "      <th>Marital_Status</th>\n",
       "      <th>Dependents</th>\n",
       "      <th>Qual_var</th>\n",
       "      <th>SE</th>\n",
       "      <th>App_Income_1</th>\n",
       "      <th>App_Income_2</th>\n",
       "      <th>CPL_Amount</th>\n",
       "      <th>CPL_Term</th>\n",
       "      <th>Credit_His</th>\n",
       "      <th>Prop_Area</th>\n",
       "      <th>CPL_Status</th>\n",
       "    </tr>\n",
       "  </thead>\n",
       "  <tbody>\n",
       "    <tr>\n",
       "      <th>0</th>\n",
       "      <td>M</td>\n",
       "      <td>N</td>\n",
       "      <td>0</td>\n",
       "      <td>Grad</td>\n",
       "      <td>N</td>\n",
       "      <td>7018.8</td>\n",
       "      <td>0.0</td>\n",
       "      <td>NaN</td>\n",
       "      <td>360.0</td>\n",
       "      <td>1.0</td>\n",
       "      <td>Urban</td>\n",
       "      <td>Y</td>\n",
       "    </tr>\n",
       "    <tr>\n",
       "      <th>1</th>\n",
       "      <td>M</td>\n",
       "      <td>Y</td>\n",
       "      <td>1</td>\n",
       "      <td>Grad</td>\n",
       "      <td>N</td>\n",
       "      <td>5499.6</td>\n",
       "      <td>1809.6</td>\n",
       "      <td>153.6</td>\n",
       "      <td>360.0</td>\n",
       "      <td>1.0</td>\n",
       "      <td>Rural</td>\n",
       "      <td>N</td>\n",
       "    </tr>\n",
       "    <tr>\n",
       "      <th>2</th>\n",
       "      <td>M</td>\n",
       "      <td>Y</td>\n",
       "      <td>0</td>\n",
       "      <td>Grad</td>\n",
       "      <td>Y</td>\n",
       "      <td>3600.0</td>\n",
       "      <td>0.0</td>\n",
       "      <td>79.2</td>\n",
       "      <td>360.0</td>\n",
       "      <td>1.0</td>\n",
       "      <td>Urban</td>\n",
       "      <td>Y</td>\n",
       "    </tr>\n",
       "    <tr>\n",
       "      <th>3</th>\n",
       "      <td>M</td>\n",
       "      <td>Y</td>\n",
       "      <td>0</td>\n",
       "      <td>Non Grad</td>\n",
       "      <td>N</td>\n",
       "      <td>3099.6</td>\n",
       "      <td>2829.6</td>\n",
       "      <td>144.0</td>\n",
       "      <td>360.0</td>\n",
       "      <td>1.0</td>\n",
       "      <td>Urban</td>\n",
       "      <td>Y</td>\n",
       "    </tr>\n",
       "    <tr>\n",
       "      <th>4</th>\n",
       "      <td>M</td>\n",
       "      <td>N</td>\n",
       "      <td>0</td>\n",
       "      <td>Grad</td>\n",
       "      <td>N</td>\n",
       "      <td>7200.0</td>\n",
       "      <td>0.0</td>\n",
       "      <td>169.2</td>\n",
       "      <td>360.0</td>\n",
       "      <td>1.0</td>\n",
       "      <td>Urban</td>\n",
       "      <td>Y</td>\n",
       "    </tr>\n",
       "  </tbody>\n",
       "</table>\n",
       "</div>"
      ],
      "text/plain": [
       "  Sex Marital_Status Dependents  Qual_var SE  App_Income_1  App_Income_2  \\\n",
       "0   M              N          0      Grad  N        7018.8           0.0   \n",
       "1   M              Y          1      Grad  N        5499.6        1809.6   \n",
       "2   M              Y          0      Grad  Y        3600.0           0.0   \n",
       "3   M              Y          0  Non Grad  N        3099.6        2829.6   \n",
       "4   M              N          0      Grad  N        7200.0           0.0   \n",
       "\n",
       "   CPL_Amount  CPL_Term  Credit_His Prop_Area CPL_Status  \n",
       "0         NaN     360.0         1.0     Urban          Y  \n",
       "1       153.6     360.0         1.0     Rural          N  \n",
       "2        79.2     360.0         1.0     Urban          Y  \n",
       "3       144.0     360.0         1.0     Urban          Y  \n",
       "4       169.2     360.0         1.0     Urban          Y  "
      ]
     },
     "execution_count": 2,
     "metadata": {},
     "output_type": "execute_result"
    }
   ],
   "source": [
    "# loading test data into pandas data frame and droping some unnecessary coloumns\n",
    "loan=pd.read_excel(\"Project - 4 - Train Data.xlsx\")\n",
    "loan=loan.drop(['Loanapp_ID','first_name','last_name','email','address','INT_ID','Prev_ID','AGT_ID'],axis=1)\n",
    "loan.head()"
   ]
  },
  {
   "cell_type": "code",
   "execution_count": 3,
   "metadata": {},
   "outputs": [
    {
     "name": "stdout",
     "output_type": "stream",
     "text": [
      "<class 'pandas.core.frame.DataFrame'>\n",
      "RangeIndex: 614 entries, 0 to 613\n",
      "Data columns (total 12 columns):\n",
      " #   Column          Non-Null Count  Dtype  \n",
      "---  ------          --------------  -----  \n",
      " 0   Sex             601 non-null    object \n",
      " 1   Marital_Status  611 non-null    object \n",
      " 2   Dependents      599 non-null    object \n",
      " 3   Qual_var        614 non-null    object \n",
      " 4   SE              582 non-null    object \n",
      " 5   App_Income_1    614 non-null    float64\n",
      " 6   App_Income_2    614 non-null    float64\n",
      " 7   CPL_Amount      612 non-null    float64\n",
      " 8   CPL_Term        600 non-null    float64\n",
      " 9   Credit_His      564 non-null    float64\n",
      " 10  Prop_Area       614 non-null    object \n",
      " 11  CPL_Status      614 non-null    object \n",
      "dtypes: float64(5), object(7)\n",
      "memory usage: 57.7+ KB\n"
     ]
    }
   ],
   "source": [
    "# Lets see the info. of the data frame \n",
    "loan.info()"
   ]
  },
  {
   "cell_type": "code",
   "execution_count": 4,
   "metadata": {},
   "outputs": [
    {
     "data": {
      "text/plain": [
       "129"
      ]
     },
     "execution_count": 4,
     "metadata": {},
     "output_type": "execute_result"
    }
   ],
   "source": [
    "# chacking if there is any missing values\n",
    "loan.isnull().values.sum()"
   ]
  },
  {
   "cell_type": "code",
   "execution_count": 5,
   "metadata": {},
   "outputs": [
    {
     "data": {
      "text/plain": [
       "M    489\n",
       "F    112\n",
       "Name: Sex, dtype: int64"
      ]
     },
     "execution_count": 5,
     "metadata": {},
     "output_type": "execute_result"
    }
   ],
   "source": [
    "loan['Sex'].value_counts()"
   ]
  },
  {
   "cell_type": "code",
   "execution_count": 6,
   "metadata": {},
   "outputs": [
    {
     "data": {
      "text/plain": [
       "Y    398\n",
       "N    213\n",
       "Name: Marital_Status, dtype: int64"
      ]
     },
     "execution_count": 6,
     "metadata": {},
     "output_type": "execute_result"
    }
   ],
   "source": [
    "loan['Marital_Status'].value_counts()"
   ]
  },
  {
   "cell_type": "code",
   "execution_count": 7,
   "metadata": {},
   "outputs": [
    {
     "data": {
      "text/plain": [
       "0     345\n",
       "1     102\n",
       "2     101\n",
       "3+     51\n",
       "Name: Dependents, dtype: int64"
      ]
     },
     "execution_count": 7,
     "metadata": {},
     "output_type": "execute_result"
    }
   ],
   "source": [
    "loan['Dependents'].value_counts()"
   ]
  },
  {
   "cell_type": "code",
   "execution_count": 8,
   "metadata": {},
   "outputs": [
    {
     "data": {
      "text/plain": [
       "Grad        480\n",
       "Non Grad    134\n",
       "Name: Qual_var, dtype: int64"
      ]
     },
     "execution_count": 8,
     "metadata": {},
     "output_type": "execute_result"
    }
   ],
   "source": [
    "loan['Qual_var'].value_counts()"
   ]
  },
  {
   "cell_type": "code",
   "execution_count": 9,
   "metadata": {},
   "outputs": [
    {
     "data": {
      "text/plain": [
       "N    500\n",
       "Y     82\n",
       "Name: SE, dtype: int64"
      ]
     },
     "execution_count": 9,
     "metadata": {},
     "output_type": "execute_result"
    }
   ],
   "source": [
    "loan['SE'].value_counts()"
   ]
  },
  {
   "cell_type": "code",
   "execution_count": 10,
   "metadata": {},
   "outputs": [
    {
     "data": {
      "text/plain": [
       "Semi U    233\n",
       "Urban     202\n",
       "Rural     179\n",
       "Name: Prop_Area, dtype: int64"
      ]
     },
     "execution_count": 10,
     "metadata": {},
     "output_type": "execute_result"
    }
   ],
   "source": [
    "loan['Prop_Area'].value_counts()"
   ]
  },
  {
   "cell_type": "code",
   "execution_count": 11,
   "metadata": {},
   "outputs": [
    {
     "data": {
      "text/plain": [
       "Y    422\n",
       "N    192\n",
       "Name: CPL_Status, dtype: int64"
      ]
     },
     "execution_count": 11,
     "metadata": {},
     "output_type": "execute_result"
    }
   ],
   "source": [
    "loan['CPL_Status'].value_counts()"
   ]
  },
  {
   "cell_type": "code",
   "execution_count": 12,
   "metadata": {},
   "outputs": [
    {
     "data": {
      "text/plain": [
       "Sex               13\n",
       "Marital_Status     3\n",
       "Dependents        15\n",
       "Qual_var           0\n",
       "SE                32\n",
       "App_Income_1       0\n",
       "App_Income_2       0\n",
       "CPL_Amount         2\n",
       "CPL_Term          14\n",
       "Credit_His        50\n",
       "Prop_Area          0\n",
       "CPL_Status         0\n",
       "dtype: int64"
      ]
     },
     "execution_count": 12,
     "metadata": {},
     "output_type": "execute_result"
    }
   ],
   "source": [
    "loan.isnull().sum()"
   ]
  },
  {
   "cell_type": "markdown",
   "metadata": {},
   "source": [
    "Here we can see that there are still some missing values in the data set"
   ]
  },
  {
   "cell_type": "code",
   "execution_count": 13,
   "metadata": {},
   "outputs": [
    {
     "data": {
      "text/plain": [
       "129"
      ]
     },
     "execution_count": 13,
     "metadata": {},
     "output_type": "execute_result"
    }
   ],
   "source": [
    "loan.isnull().sum().sum()"
   ]
  },
  {
   "cell_type": "code",
   "execution_count": 14,
   "metadata": {},
   "outputs": [
    {
     "data": {
      "text/plain": [
       "Sex               13\n",
       "Marital_Status     3\n",
       "Dependents        15\n",
       "Qual_var           0\n",
       "SE                32\n",
       "App_Income_1       0\n",
       "App_Income_2       0\n",
       "CPL_Amount         0\n",
       "CPL_Term           0\n",
       "Credit_His         0\n",
       "Prop_Area          0\n",
       "CPL_Status         0\n",
       "dtype: int64"
      ]
     },
     "execution_count": 14,
     "metadata": {},
     "output_type": "execute_result"
    }
   ],
   "source": [
    "# filling the missing values by mean values for continuous data\n",
    "loan.CPL_Amount.fillna(loan['CPL_Amount'].mean(),inplace=True)\n",
    "loan.CPL_Term.fillna(loan['CPL_Term'].mean(),inplace=True)\n",
    "loan.Credit_His.fillna(loan['Credit_His'].mean(),inplace=True)\n",
    "loan.isnull().sum()"
   ]
  },
  {
   "cell_type": "code",
   "execution_count": 15,
   "metadata": {},
   "outputs": [
    {
     "name": "stdout",
     "output_type": "stream",
     "text": [
      "<class 'pandas.core.frame.DataFrame'>\n",
      "RangeIndex: 614 entries, 0 to 613\n",
      "Data columns (total 12 columns):\n",
      " #   Column          Non-Null Count  Dtype  \n",
      "---  ------          --------------  -----  \n",
      " 0   Sex             601 non-null    object \n",
      " 1   Marital_Status  611 non-null    object \n",
      " 2   Dependents      599 non-null    object \n",
      " 3   Qual_var        614 non-null    object \n",
      " 4   SE              582 non-null    object \n",
      " 5   App_Income_1    614 non-null    float64\n",
      " 6   App_Income_2    614 non-null    float64\n",
      " 7   CPL_Amount      614 non-null    float64\n",
      " 8   CPL_Term        614 non-null    float64\n",
      " 9   Credit_His      614 non-null    float64\n",
      " 10  Prop_Area       614 non-null    object \n",
      " 11  CPL_Status      614 non-null    object \n",
      "dtypes: float64(5), object(7)\n",
      "memory usage: 57.7+ KB\n"
     ]
    }
   ],
   "source": [
    "# check the info of data set\n",
    "loan.info()"
   ]
  },
  {
   "cell_type": "code",
   "execution_count": 16,
   "metadata": {},
   "outputs": [],
   "source": [
    "# mapping catagorical values to numerical values\n",
    "loan['Sex']=loan.Sex.map({'M':1,'F':0})\n",
    "loan['Marital_Status']=loan.Marital_Status.map({'Y':1,'N':0})\n",
    "loan['Dependents']=loan.Dependents.map({0:0,1:1,2:2,'3+':3})\n",
    "loan['SE']=loan.SE.map({'Y':1,'N':0})\n",
    "loan['Qual_var']=loan.Qual_var.map({'Grad':1,'Non Grad':0})\n",
    "loan['CPL_Status']=loan.CPL_Status.map({'Y':1,'N':0})\n",
    "\n",
    "prop_area=pd.get_dummies(loan['Prop_Area'],prefix='Prop_Area',drop_first=True)\n",
    "loan=pd.concat([loan,prop_area],axis=1)\n",
    "loan=loan.drop('Prop_Area',axis=1)"
   ]
  },
  {
   "cell_type": "code",
   "execution_count": 17,
   "metadata": {},
   "outputs": [
    {
     "data": {
      "text/html": [
       "<div>\n",
       "<style scoped>\n",
       "    .dataframe tbody tr th:only-of-type {\n",
       "        vertical-align: middle;\n",
       "    }\n",
       "\n",
       "    .dataframe tbody tr th {\n",
       "        vertical-align: top;\n",
       "    }\n",
       "\n",
       "    .dataframe thead th {\n",
       "        text-align: right;\n",
       "    }\n",
       "</style>\n",
       "<table border=\"1\" class=\"dataframe\">\n",
       "  <thead>\n",
       "    <tr style=\"text-align: right;\">\n",
       "      <th></th>\n",
       "      <th>Sex</th>\n",
       "      <th>Marital_Status</th>\n",
       "      <th>Dependents</th>\n",
       "      <th>Qual_var</th>\n",
       "      <th>SE</th>\n",
       "      <th>App_Income_1</th>\n",
       "      <th>App_Income_2</th>\n",
       "      <th>CPL_Amount</th>\n",
       "      <th>CPL_Term</th>\n",
       "      <th>Credit_His</th>\n",
       "      <th>CPL_Status</th>\n",
       "      <th>Prop_Area_Semi U</th>\n",
       "      <th>Prop_Area_Urban</th>\n",
       "    </tr>\n",
       "  </thead>\n",
       "  <tbody>\n",
       "    <tr>\n",
       "      <th>0</th>\n",
       "      <td>1.0</td>\n",
       "      <td>0.0</td>\n",
       "      <td>0.0</td>\n",
       "      <td>1</td>\n",
       "      <td>0.0</td>\n",
       "      <td>7018.8</td>\n",
       "      <td>0.0</td>\n",
       "      <td>175.805882</td>\n",
       "      <td>360.0</td>\n",
       "      <td>1.000000</td>\n",
       "      <td>1</td>\n",
       "      <td>0</td>\n",
       "      <td>1</td>\n",
       "    </tr>\n",
       "    <tr>\n",
       "      <th>1</th>\n",
       "      <td>1.0</td>\n",
       "      <td>1.0</td>\n",
       "      <td>1.0</td>\n",
       "      <td>1</td>\n",
       "      <td>0.0</td>\n",
       "      <td>5499.6</td>\n",
       "      <td>1809.6</td>\n",
       "      <td>153.600000</td>\n",
       "      <td>360.0</td>\n",
       "      <td>1.000000</td>\n",
       "      <td>0</td>\n",
       "      <td>0</td>\n",
       "      <td>0</td>\n",
       "    </tr>\n",
       "    <tr>\n",
       "      <th>2</th>\n",
       "      <td>1.0</td>\n",
       "      <td>1.0</td>\n",
       "      <td>0.0</td>\n",
       "      <td>1</td>\n",
       "      <td>1.0</td>\n",
       "      <td>3600.0</td>\n",
       "      <td>0.0</td>\n",
       "      <td>79.200000</td>\n",
       "      <td>360.0</td>\n",
       "      <td>1.000000</td>\n",
       "      <td>1</td>\n",
       "      <td>0</td>\n",
       "      <td>1</td>\n",
       "    </tr>\n",
       "    <tr>\n",
       "      <th>3</th>\n",
       "      <td>1.0</td>\n",
       "      <td>1.0</td>\n",
       "      <td>0.0</td>\n",
       "      <td>0</td>\n",
       "      <td>0.0</td>\n",
       "      <td>3099.6</td>\n",
       "      <td>2829.6</td>\n",
       "      <td>144.000000</td>\n",
       "      <td>360.0</td>\n",
       "      <td>1.000000</td>\n",
       "      <td>1</td>\n",
       "      <td>0</td>\n",
       "      <td>1</td>\n",
       "    </tr>\n",
       "    <tr>\n",
       "      <th>4</th>\n",
       "      <td>1.0</td>\n",
       "      <td>0.0</td>\n",
       "      <td>0.0</td>\n",
       "      <td>1</td>\n",
       "      <td>0.0</td>\n",
       "      <td>7200.0</td>\n",
       "      <td>0.0</td>\n",
       "      <td>169.200000</td>\n",
       "      <td>360.0</td>\n",
       "      <td>1.000000</td>\n",
       "      <td>1</td>\n",
       "      <td>0</td>\n",
       "      <td>1</td>\n",
       "    </tr>\n",
       "    <tr>\n",
       "      <th>5</th>\n",
       "      <td>1.0</td>\n",
       "      <td>1.0</td>\n",
       "      <td>2.0</td>\n",
       "      <td>1</td>\n",
       "      <td>1.0</td>\n",
       "      <td>6500.4</td>\n",
       "      <td>5035.2</td>\n",
       "      <td>320.400000</td>\n",
       "      <td>360.0</td>\n",
       "      <td>1.000000</td>\n",
       "      <td>1</td>\n",
       "      <td>0</td>\n",
       "      <td>1</td>\n",
       "    </tr>\n",
       "    <tr>\n",
       "      <th>6</th>\n",
       "      <td>1.0</td>\n",
       "      <td>1.0</td>\n",
       "      <td>0.0</td>\n",
       "      <td>0</td>\n",
       "      <td>0.0</td>\n",
       "      <td>2799.6</td>\n",
       "      <td>1819.2</td>\n",
       "      <td>114.000000</td>\n",
       "      <td>360.0</td>\n",
       "      <td>1.000000</td>\n",
       "      <td>1</td>\n",
       "      <td>0</td>\n",
       "      <td>1</td>\n",
       "    </tr>\n",
       "    <tr>\n",
       "      <th>7</th>\n",
       "      <td>1.0</td>\n",
       "      <td>1.0</td>\n",
       "      <td>3.0</td>\n",
       "      <td>1</td>\n",
       "      <td>0.0</td>\n",
       "      <td>3643.2</td>\n",
       "      <td>3004.8</td>\n",
       "      <td>189.600000</td>\n",
       "      <td>360.0</td>\n",
       "      <td>0.000000</td>\n",
       "      <td>0</td>\n",
       "      <td>1</td>\n",
       "      <td>0</td>\n",
       "    </tr>\n",
       "    <tr>\n",
       "      <th>8</th>\n",
       "      <td>1.0</td>\n",
       "      <td>1.0</td>\n",
       "      <td>2.0</td>\n",
       "      <td>1</td>\n",
       "      <td>0.0</td>\n",
       "      <td>4807.2</td>\n",
       "      <td>1831.2</td>\n",
       "      <td>201.600000</td>\n",
       "      <td>360.0</td>\n",
       "      <td>1.000000</td>\n",
       "      <td>1</td>\n",
       "      <td>0</td>\n",
       "      <td>1</td>\n",
       "    </tr>\n",
       "    <tr>\n",
       "      <th>9</th>\n",
       "      <td>1.0</td>\n",
       "      <td>1.0</td>\n",
       "      <td>1.0</td>\n",
       "      <td>1</td>\n",
       "      <td>0.0</td>\n",
       "      <td>15409.2</td>\n",
       "      <td>13161.6</td>\n",
       "      <td>418.800000</td>\n",
       "      <td>360.0</td>\n",
       "      <td>1.000000</td>\n",
       "      <td>0</td>\n",
       "      <td>1</td>\n",
       "      <td>0</td>\n",
       "    </tr>\n",
       "    <tr>\n",
       "      <th>10</th>\n",
       "      <td>1.0</td>\n",
       "      <td>1.0</td>\n",
       "      <td>2.0</td>\n",
       "      <td>1</td>\n",
       "      <td>0.0</td>\n",
       "      <td>3840.0</td>\n",
       "      <td>840.0</td>\n",
       "      <td>84.000000</td>\n",
       "      <td>360.0</td>\n",
       "      <td>1.000000</td>\n",
       "      <td>1</td>\n",
       "      <td>0</td>\n",
       "      <td>1</td>\n",
       "    </tr>\n",
       "    <tr>\n",
       "      <th>11</th>\n",
       "      <td>1.0</td>\n",
       "      <td>1.0</td>\n",
       "      <td>2.0</td>\n",
       "      <td>1</td>\n",
       "      <td>NaN</td>\n",
       "      <td>3000.0</td>\n",
       "      <td>2208.0</td>\n",
       "      <td>130.800000</td>\n",
       "      <td>360.0</td>\n",
       "      <td>1.000000</td>\n",
       "      <td>1</td>\n",
       "      <td>0</td>\n",
       "      <td>1</td>\n",
       "    </tr>\n",
       "    <tr>\n",
       "      <th>12</th>\n",
       "      <td>1.0</td>\n",
       "      <td>1.0</td>\n",
       "      <td>2.0</td>\n",
       "      <td>1</td>\n",
       "      <td>0.0</td>\n",
       "      <td>3687.6</td>\n",
       "      <td>9727.2</td>\n",
       "      <td>240.000000</td>\n",
       "      <td>360.0</td>\n",
       "      <td>1.000000</td>\n",
       "      <td>1</td>\n",
       "      <td>0</td>\n",
       "      <td>1</td>\n",
       "    </tr>\n",
       "    <tr>\n",
       "      <th>13</th>\n",
       "      <td>1.0</td>\n",
       "      <td>0.0</td>\n",
       "      <td>0.0</td>\n",
       "      <td>1</td>\n",
       "      <td>0.0</td>\n",
       "      <td>2223.6</td>\n",
       "      <td>3408.0</td>\n",
       "      <td>136.800000</td>\n",
       "      <td>360.0</td>\n",
       "      <td>1.000000</td>\n",
       "      <td>0</td>\n",
       "      <td>0</td>\n",
       "      <td>0</td>\n",
       "    </tr>\n",
       "    <tr>\n",
       "      <th>14</th>\n",
       "      <td>1.0</td>\n",
       "      <td>1.0</td>\n",
       "      <td>2.0</td>\n",
       "      <td>1</td>\n",
       "      <td>0.0</td>\n",
       "      <td>1558.8</td>\n",
       "      <td>1303.2</td>\n",
       "      <td>20.400000</td>\n",
       "      <td>120.0</td>\n",
       "      <td>1.000000</td>\n",
       "      <td>1</td>\n",
       "      <td>0</td>\n",
       "      <td>1</td>\n",
       "    </tr>\n",
       "    <tr>\n",
       "      <th>15</th>\n",
       "      <td>1.0</td>\n",
       "      <td>0.0</td>\n",
       "      <td>0.0</td>\n",
       "      <td>1</td>\n",
       "      <td>0.0</td>\n",
       "      <td>5940.0</td>\n",
       "      <td>0.0</td>\n",
       "      <td>150.000000</td>\n",
       "      <td>360.0</td>\n",
       "      <td>1.000000</td>\n",
       "      <td>1</td>\n",
       "      <td>0</td>\n",
       "      <td>1</td>\n",
       "    </tr>\n",
       "    <tr>\n",
       "      <th>16</th>\n",
       "      <td>1.0</td>\n",
       "      <td>0.0</td>\n",
       "      <td>1.0</td>\n",
       "      <td>0</td>\n",
       "      <td>0.0</td>\n",
       "      <td>4315.2</td>\n",
       "      <td>0.0</td>\n",
       "      <td>120.000000</td>\n",
       "      <td>240.0</td>\n",
       "      <td>0.842199</td>\n",
       "      <td>1</td>\n",
       "      <td>0</td>\n",
       "      <td>1</td>\n",
       "    </tr>\n",
       "    <tr>\n",
       "      <th>17</th>\n",
       "      <td>0.0</td>\n",
       "      <td>0.0</td>\n",
       "      <td>0.0</td>\n",
       "      <td>1</td>\n",
       "      <td>0.0</td>\n",
       "      <td>4212.0</td>\n",
       "      <td>0.0</td>\n",
       "      <td>91.200000</td>\n",
       "      <td>360.0</td>\n",
       "      <td>0.000000</td>\n",
       "      <td>0</td>\n",
       "      <td>0</td>\n",
       "      <td>1</td>\n",
       "    </tr>\n",
       "    <tr>\n",
       "      <th>18</th>\n",
       "      <td>1.0</td>\n",
       "      <td>1.0</td>\n",
       "      <td>0.0</td>\n",
       "      <td>0</td>\n",
       "      <td>0.0</td>\n",
       "      <td>5864.4</td>\n",
       "      <td>0.0</td>\n",
       "      <td>159.600000</td>\n",
       "      <td>360.0</td>\n",
       "      <td>1.000000</td>\n",
       "      <td>0</td>\n",
       "      <td>0</td>\n",
       "      <td>0</td>\n",
       "    </tr>\n",
       "    <tr>\n",
       "      <th>19</th>\n",
       "      <td>1.0</td>\n",
       "      <td>1.0</td>\n",
       "      <td>0.0</td>\n",
       "      <td>1</td>\n",
       "      <td>NaN</td>\n",
       "      <td>3120.0</td>\n",
       "      <td>4200.0</td>\n",
       "      <td>138.000000</td>\n",
       "      <td>342.0</td>\n",
       "      <td>1.000000</td>\n",
       "      <td>1</td>\n",
       "      <td>0</td>\n",
       "      <td>1</td>\n",
       "    </tr>\n",
       "  </tbody>\n",
       "</table>\n",
       "</div>"
      ],
      "text/plain": [
       "    Sex  Marital_Status  Dependents  Qual_var   SE  App_Income_1  \\\n",
       "0   1.0             0.0         0.0         1  0.0        7018.8   \n",
       "1   1.0             1.0         1.0         1  0.0        5499.6   \n",
       "2   1.0             1.0         0.0         1  1.0        3600.0   \n",
       "3   1.0             1.0         0.0         0  0.0        3099.6   \n",
       "4   1.0             0.0         0.0         1  0.0        7200.0   \n",
       "5   1.0             1.0         2.0         1  1.0        6500.4   \n",
       "6   1.0             1.0         0.0         0  0.0        2799.6   \n",
       "7   1.0             1.0         3.0         1  0.0        3643.2   \n",
       "8   1.0             1.0         2.0         1  0.0        4807.2   \n",
       "9   1.0             1.0         1.0         1  0.0       15409.2   \n",
       "10  1.0             1.0         2.0         1  0.0        3840.0   \n",
       "11  1.0             1.0         2.0         1  NaN        3000.0   \n",
       "12  1.0             1.0         2.0         1  0.0        3687.6   \n",
       "13  1.0             0.0         0.0         1  0.0        2223.6   \n",
       "14  1.0             1.0         2.0         1  0.0        1558.8   \n",
       "15  1.0             0.0         0.0         1  0.0        5940.0   \n",
       "16  1.0             0.0         1.0         0  0.0        4315.2   \n",
       "17  0.0             0.0         0.0         1  0.0        4212.0   \n",
       "18  1.0             1.0         0.0         0  0.0        5864.4   \n",
       "19  1.0             1.0         0.0         1  NaN        3120.0   \n",
       "\n",
       "    App_Income_2  CPL_Amount  CPL_Term  Credit_His  CPL_Status  \\\n",
       "0            0.0  175.805882     360.0    1.000000           1   \n",
       "1         1809.6  153.600000     360.0    1.000000           0   \n",
       "2            0.0   79.200000     360.0    1.000000           1   \n",
       "3         2829.6  144.000000     360.0    1.000000           1   \n",
       "4            0.0  169.200000     360.0    1.000000           1   \n",
       "5         5035.2  320.400000     360.0    1.000000           1   \n",
       "6         1819.2  114.000000     360.0    1.000000           1   \n",
       "7         3004.8  189.600000     360.0    0.000000           0   \n",
       "8         1831.2  201.600000     360.0    1.000000           1   \n",
       "9        13161.6  418.800000     360.0    1.000000           0   \n",
       "10         840.0   84.000000     360.0    1.000000           1   \n",
       "11        2208.0  130.800000     360.0    1.000000           1   \n",
       "12        9727.2  240.000000     360.0    1.000000           1   \n",
       "13        3408.0  136.800000     360.0    1.000000           0   \n",
       "14        1303.2   20.400000     120.0    1.000000           1   \n",
       "15           0.0  150.000000     360.0    1.000000           1   \n",
       "16           0.0  120.000000     240.0    0.842199           1   \n",
       "17           0.0   91.200000     360.0    0.000000           0   \n",
       "18           0.0  159.600000     360.0    1.000000           0   \n",
       "19        4200.0  138.000000     342.0    1.000000           1   \n",
       "\n",
       "    Prop_Area_Semi U  Prop_Area_Urban  \n",
       "0                  0                1  \n",
       "1                  0                0  \n",
       "2                  0                1  \n",
       "3                  0                1  \n",
       "4                  0                1  \n",
       "5                  0                1  \n",
       "6                  0                1  \n",
       "7                  1                0  \n",
       "8                  0                1  \n",
       "9                  1                0  \n",
       "10                 0                1  \n",
       "11                 0                1  \n",
       "12                 0                1  \n",
       "13                 0                0  \n",
       "14                 0                1  \n",
       "15                 0                1  \n",
       "16                 0                1  \n",
       "17                 0                1  \n",
       "18                 0                0  \n",
       "19                 0                1  "
      ]
     },
     "execution_count": 17,
     "metadata": {},
     "output_type": "execute_result"
    }
   ],
   "source": [
    "loan.head(20)"
   ]
  },
  {
   "cell_type": "code",
   "execution_count": 18,
   "metadata": {},
   "outputs": [
    {
     "name": "stdout",
     "output_type": "stream",
     "text": [
      "   Sex  Marital_Status  Dependents  Qual_var   SE  App_Income_1  App_Income_2  \\\n",
      "0  1.0             1.0         0.0         1  0.0        3000.0           0.0   \n",
      "\n",
      "   CPL_Amount  CPL_Term  Credit_His  CPL_Status  Prop_Area_Semi U  \\\n",
      "0       144.0     360.0         1.0           1                 0   \n",
      "\n",
      "   Prop_Area_Urban  \n",
      "0                0  \n"
     ]
    }
   ],
   "source": [
    "# filling the missing values for catagorical values by mode\n",
    "mode=loan.mode(axis=0)\n",
    "print(mode)\n",
    "loan['Sex'].fillna(mode.iloc[0,0],inplace=True)\n",
    "loan['Marital_Status'].fillna(mode.iloc[0,1],inplace=True)\n",
    "loan['Dependents'].fillna(mode.iloc[0,2],inplace=True)\n",
    "loan['SE'].fillna(mode.iloc[0,4],inplace=True)"
   ]
  },
  {
   "cell_type": "code",
   "execution_count": 19,
   "metadata": {},
   "outputs": [
    {
     "data": {
      "text/plain": [
       "Sex                 0\n",
       "Marital_Status      0\n",
       "Dependents          0\n",
       "Qual_var            0\n",
       "SE                  0\n",
       "App_Income_1        0\n",
       "App_Income_2        0\n",
       "CPL_Amount          0\n",
       "CPL_Term            0\n",
       "Credit_His          0\n",
       "CPL_Status          0\n",
       "Prop_Area_Semi U    0\n",
       "Prop_Area_Urban     0\n",
       "dtype: int64"
      ]
     },
     "execution_count": 19,
     "metadata": {},
     "output_type": "execute_result"
    }
   ],
   "source": [
    "loan.isnull().sum()"
   ]
  },
  {
   "cell_type": "code",
   "execution_count": 20,
   "metadata": {},
   "outputs": [
    {
     "data": {
      "text/plain": [
       "<matplotlib.axes._subplots.AxesSubplot at 0x140c8fc7288>"
      ]
     },
     "execution_count": 20,
     "metadata": {},
     "output_type": "execute_result"
    },
    {
     "data": {
      "image/png": "[encoded data removed]",
      "text/plain": [
       "<Figure size 1440x720 with 2 Axes>"
      ]
     },
     "metadata": {
      "needs_background": "light"
     },
     "output_type": "display_data"
    }
   ],
   "source": [
    "# plot the heat map to check if there is any high correlation among attributes\n",
    "plt.figure(figsize=(20,10))\n",
    "sns.heatmap(loan.corr(),annot=True)"
   ]
  },
  {
   "cell_type": "code",
   "execution_count": 21,
   "metadata": {},
   "outputs": [],
   "source": [
    "# dividing the train data into X and Y\n",
    "X_train=loan.drop('CPL_Status',axis=1)\n",
    "Y_train=loan['CPL_Status']"
   ]
  },
  {
   "cell_type": "markdown",
   "metadata": {},
   "source": [
    "# Test data preparation"
   ]
  },
  {
   "cell_type": "code",
   "execution_count": 22,
   "metadata": {},
   "outputs": [
    {
     "data": {
      "text/html": [
       "<div>\n",
       "<style scoped>\n",
       "    .dataframe tbody tr th:only-of-type {\n",
       "        vertical-align: middle;\n",
       "    }\n",
       "\n",
       "    .dataframe tbody tr th {\n",
       "        vertical-align: top;\n",
       "    }\n",
       "\n",
       "    .dataframe thead th {\n",
       "        text-align: right;\n",
       "    }\n",
       "</style>\n",
       "<table border=\"1\" class=\"dataframe\">\n",
       "  <thead>\n",
       "    <tr style=\"text-align: right;\">\n",
       "      <th></th>\n",
       "      <th>Sex</th>\n",
       "      <th>Marital_Status</th>\n",
       "      <th>Dependents</th>\n",
       "      <th>Qual_var</th>\n",
       "      <th>SE</th>\n",
       "      <th>App_Income_1</th>\n",
       "      <th>App_Income_2</th>\n",
       "      <th>CPL_Amount</th>\n",
       "      <th>CPL_Term</th>\n",
       "      <th>Credit_His</th>\n",
       "      <th>Prop_Area</th>\n",
       "    </tr>\n",
       "  </thead>\n",
       "  <tbody>\n",
       "    <tr>\n",
       "      <th>0</th>\n",
       "      <td>M</td>\n",
       "      <td>Y</td>\n",
       "      <td>0</td>\n",
       "      <td>Grad</td>\n",
       "      <td>N</td>\n",
       "      <td>6864.0</td>\n",
       "      <td>0.0</td>\n",
       "      <td>132.0</td>\n",
       "      <td>360.0</td>\n",
       "      <td>1.0</td>\n",
       "      <td>Urban</td>\n",
       "    </tr>\n",
       "    <tr>\n",
       "      <th>1</th>\n",
       "      <td>M</td>\n",
       "      <td>Y</td>\n",
       "      <td>1</td>\n",
       "      <td>Grad</td>\n",
       "      <td>N</td>\n",
       "      <td>3691.2</td>\n",
       "      <td>1800.0</td>\n",
       "      <td>151.2</td>\n",
       "      <td>360.0</td>\n",
       "      <td>1.0</td>\n",
       "      <td>Urban</td>\n",
       "    </tr>\n",
       "    <tr>\n",
       "      <th>2</th>\n",
       "      <td>M</td>\n",
       "      <td>Y</td>\n",
       "      <td>2</td>\n",
       "      <td>Grad</td>\n",
       "      <td>N</td>\n",
       "      <td>6000.0</td>\n",
       "      <td>2160.0</td>\n",
       "      <td>249.6</td>\n",
       "      <td>360.0</td>\n",
       "      <td>1.0</td>\n",
       "      <td>Urban</td>\n",
       "    </tr>\n",
       "    <tr>\n",
       "      <th>3</th>\n",
       "      <td>M</td>\n",
       "      <td>Y</td>\n",
       "      <td>2</td>\n",
       "      <td>Grad</td>\n",
       "      <td>N</td>\n",
       "      <td>2808.0</td>\n",
       "      <td>3055.2</td>\n",
       "      <td>120.0</td>\n",
       "      <td>360.0</td>\n",
       "      <td>NaN</td>\n",
       "      <td>Urban</td>\n",
       "    </tr>\n",
       "    <tr>\n",
       "      <th>4</th>\n",
       "      <td>M</td>\n",
       "      <td>N</td>\n",
       "      <td>0</td>\n",
       "      <td>Non Grad</td>\n",
       "      <td>N</td>\n",
       "      <td>3931.2</td>\n",
       "      <td>0.0</td>\n",
       "      <td>93.6</td>\n",
       "      <td>360.0</td>\n",
       "      <td>1.0</td>\n",
       "      <td>Urban</td>\n",
       "    </tr>\n",
       "  </tbody>\n",
       "</table>\n",
       "</div>"
      ],
      "text/plain": [
       "  Sex Marital_Status Dependents  Qual_var SE  App_Income_1  App_Income_2  \\\n",
       "0   M              Y          0      Grad  N        6864.0           0.0   \n",
       "1   M              Y          1      Grad  N        3691.2        1800.0   \n",
       "2   M              Y          2      Grad  N        6000.0        2160.0   \n",
       "3   M              Y          2      Grad  N        2808.0        3055.2   \n",
       "4   M              N          0  Non Grad  N        3931.2           0.0   \n",
       "\n",
       "   CPL_Amount  CPL_Term  Credit_His Prop_Area  \n",
       "0       132.0     360.0         1.0     Urban  \n",
       "1       151.2     360.0         1.0     Urban  \n",
       "2       249.6     360.0         1.0     Urban  \n",
       "3       120.0     360.0         NaN     Urban  \n",
       "4        93.6     360.0         1.0     Urban  "
      ]
     },
     "execution_count": 22,
     "metadata": {},
     "output_type": "execute_result"
    }
   ],
   "source": [
    "# load test data set and follow all the above steps to process this data\n",
    "loan1=pd.read_excel(\"Project - 4 - Test Data.xlsx\")\n",
    "loan1=loan1.drop(['Loanapp_ID','first_name','last_name','email','address','INT_ID','Prev_ID','AGT_ID'],axis=1)\n",
    "loan1.head()"
   ]
  },
  {
   "cell_type": "code",
   "execution_count": 23,
   "metadata": {},
   "outputs": [
    {
     "name": "stdout",
     "output_type": "stream",
     "text": [
      "<class 'pandas.core.frame.DataFrame'>\n",
      "RangeIndex: 367 entries, 0 to 366\n",
      "Data columns (total 11 columns):\n",
      " #   Column          Non-Null Count  Dtype  \n",
      "---  ------          --------------  -----  \n",
      " 0   Sex             356 non-null    object \n",
      " 1   Marital_Status  367 non-null    object \n",
      " 2   Dependents      357 non-null    object \n",
      " 3   Qual_var        367 non-null    object \n",
      " 4   SE              344 non-null    object \n",
      " 5   App_Income_1    367 non-null    float64\n",
      " 6   App_Income_2    367 non-null    float64\n",
      " 7   CPL_Amount      367 non-null    float64\n",
      " 8   CPL_Term        361 non-null    float64\n",
      " 9   Credit_His      338 non-null    float64\n",
      " 10  Prop_Area       367 non-null    object \n",
      "dtypes: float64(5), object(6)\n",
      "memory usage: 31.7+ KB\n"
     ]
    }
   ],
   "source": [
    "loan1.info()"
   ]
  },
  {
   "cell_type": "code",
   "execution_count": 24,
   "metadata": {},
   "outputs": [
    {
     "data": {
      "text/plain": [
       "79"
      ]
     },
     "execution_count": 24,
     "metadata": {},
     "output_type": "execute_result"
    }
   ],
   "source": [
    "loan1.isnull().values.sum()"
   ]
  },
  {
   "cell_type": "code",
   "execution_count": 25,
   "metadata": {},
   "outputs": [
    {
     "data": {
      "text/plain": [
       "M    286\n",
       "F     70\n",
       "Name: Sex, dtype: int64"
      ]
     },
     "execution_count": 25,
     "metadata": {},
     "output_type": "execute_result"
    }
   ],
   "source": [
    "loan1['Sex'].value_counts()"
   ]
  },
  {
   "cell_type": "code",
   "execution_count": 26,
   "metadata": {},
   "outputs": [
    {
     "data": {
      "text/plain": [
       "Y    233\n",
       "N    134\n",
       "Name: Marital_Status, dtype: int64"
      ]
     },
     "execution_count": 26,
     "metadata": {},
     "output_type": "execute_result"
    }
   ],
   "source": [
    "loan1['Marital_Status'].value_counts()"
   ]
  },
  {
   "cell_type": "code",
   "execution_count": 27,
   "metadata": {},
   "outputs": [
    {
     "data": {
      "text/plain": [
       "0     200\n",
       "2      59\n",
       "1      58\n",
       "3+     40\n",
       "Name: Dependents, dtype: int64"
      ]
     },
     "execution_count": 27,
     "metadata": {},
     "output_type": "execute_result"
    }
   ],
   "source": [
    "loan1['Dependents'].value_counts()"
   ]
  },
  {
   "cell_type": "code",
   "execution_count": 28,
   "metadata": {},
   "outputs": [
    {
     "data": {
      "text/plain": [
       "Grad        283\n",
       "Non Grad     84\n",
       "Name: Qual_var, dtype: int64"
      ]
     },
     "execution_count": 28,
     "metadata": {},
     "output_type": "execute_result"
    }
   ],
   "source": [
    "loan1['Qual_var'].value_counts()"
   ]
  },
  {
   "cell_type": "code",
   "execution_count": 29,
   "metadata": {},
   "outputs": [
    {
     "data": {
      "text/plain": [
       "N    307\n",
       "Y     37\n",
       "Name: SE, dtype: int64"
      ]
     },
     "execution_count": 29,
     "metadata": {},
     "output_type": "execute_result"
    }
   ],
   "source": [
    "loan1['SE'].value_counts()"
   ]
  },
  {
   "cell_type": "code",
   "execution_count": 30,
   "metadata": {},
   "outputs": [
    {
     "data": {
      "text/plain": [
       "Urban     140\n",
       "Semi U    116\n",
       "Rural     111\n",
       "Name: Prop_Area, dtype: int64"
      ]
     },
     "execution_count": 30,
     "metadata": {},
     "output_type": "execute_result"
    }
   ],
   "source": [
    "loan1['Prop_Area'].value_counts()"
   ]
  },
  {
   "cell_type": "code",
   "execution_count": 31,
   "metadata": {},
   "outputs": [
    {
     "data": {
      "text/plain": [
       "Sex               11\n",
       "Marital_Status     0\n",
       "Dependents        10\n",
       "Qual_var           0\n",
       "SE                23\n",
       "App_Income_1       0\n",
       "App_Income_2       0\n",
       "CPL_Amount         0\n",
       "CPL_Term           6\n",
       "Credit_His        29\n",
       "Prop_Area          0\n",
       "dtype: int64"
      ]
     },
     "execution_count": 31,
     "metadata": {},
     "output_type": "execute_result"
    }
   ],
   "source": [
    "loan1.isnull().sum()"
   ]
  },
  {
   "cell_type": "code",
   "execution_count": 32,
   "metadata": {},
   "outputs": [
    {
     "data": {
      "text/plain": [
       "79"
      ]
     },
     "execution_count": 32,
     "metadata": {},
     "output_type": "execute_result"
    }
   ],
   "source": [
    "loan1.isnull().sum().sum()"
   ]
  },
  {
   "cell_type": "code",
   "execution_count": 33,
   "metadata": {},
   "outputs": [
    {
     "data": {
      "text/plain": [
       "Sex               11\n",
       "Marital_Status     0\n",
       "Dependents        10\n",
       "Qual_var           0\n",
       "SE                23\n",
       "App_Income_1       0\n",
       "App_Income_2       0\n",
       "CPL_Amount         0\n",
       "CPL_Term           0\n",
       "Credit_His         0\n",
       "Prop_Area          0\n",
       "dtype: int64"
      ]
     },
     "execution_count": 33,
     "metadata": {},
     "output_type": "execute_result"
    }
   ],
   "source": [
    "loan1.CPL_Term.fillna(loan1['CPL_Term'].mean(),inplace=True)\n",
    "loan1.Credit_His.fillna(loan1['Credit_His'].mean(),inplace=True)\n",
    "loan1.isnull().sum()"
   ]
  },
  {
   "cell_type": "code",
   "execution_count": 34,
   "metadata": {},
   "outputs": [],
   "source": [
    "loan1['Sex']=loan1.Sex.map({'M':1,'F':0})\n",
    "loan1['Marital_Status']=loan1.Marital_Status.map({'Y':1,'N':0})\n",
    "loan1['Dependents']=loan1.Dependents.map({0:0,1:1,2:2,'3+':3})\n",
    "loan1['SE']=loan1.SE.map({'Y':1,'N':0})\n",
    "loan1['Qual_var']=loan1.Qual_var.map({'Grad':1,'Non Grad':0})\n",
    "\n",
    "prop_area1=pd.get_dummies(loan1['Prop_Area'],prefix='Prop_Area',drop_first=True)\n",
    "loan1=pd.concat([loan1,prop_area1],axis=1)\n",
    "loan1=loan1.drop('Prop_Area',axis=1)"
   ]
  },
  {
   "cell_type": "code",
   "execution_count": 35,
   "metadata": {},
   "outputs": [
    {
     "data": {
      "text/html": [
       "<div>\n",
       "<style scoped>\n",
       "    .dataframe tbody tr th:only-of-type {\n",
       "        vertical-align: middle;\n",
       "    }\n",
       "\n",
       "    .dataframe tbody tr th {\n",
       "        vertical-align: top;\n",
       "    }\n",
       "\n",
       "    .dataframe thead th {\n",
       "        text-align: right;\n",
       "    }\n",
       "</style>\n",
       "<table border=\"1\" class=\"dataframe\">\n",
       "  <thead>\n",
       "    <tr style=\"text-align: right;\">\n",
       "      <th></th>\n",
       "      <th>Sex</th>\n",
       "      <th>Marital_Status</th>\n",
       "      <th>Dependents</th>\n",
       "      <th>Qual_var</th>\n",
       "      <th>SE</th>\n",
       "      <th>App_Income_1</th>\n",
       "      <th>App_Income_2</th>\n",
       "      <th>CPL_Amount</th>\n",
       "      <th>CPL_Term</th>\n",
       "      <th>Credit_His</th>\n",
       "      <th>Prop_Area_Semi U</th>\n",
       "      <th>Prop_Area_Urban</th>\n",
       "    </tr>\n",
       "  </thead>\n",
       "  <tbody>\n",
       "    <tr>\n",
       "      <th>0</th>\n",
       "      <td>1.0</td>\n",
       "      <td>1</td>\n",
       "      <td>0.0</td>\n",
       "      <td>1</td>\n",
       "      <td>0.0</td>\n",
       "      <td>6864.0</td>\n",
       "      <td>0.0</td>\n",
       "      <td>132.0</td>\n",
       "      <td>360.0</td>\n",
       "      <td>1.000000</td>\n",
       "      <td>0</td>\n",
       "      <td>1</td>\n",
       "    </tr>\n",
       "    <tr>\n",
       "      <th>1</th>\n",
       "      <td>1.0</td>\n",
       "      <td>1</td>\n",
       "      <td>1.0</td>\n",
       "      <td>1</td>\n",
       "      <td>0.0</td>\n",
       "      <td>3691.2</td>\n",
       "      <td>1800.0</td>\n",
       "      <td>151.2</td>\n",
       "      <td>360.0</td>\n",
       "      <td>1.000000</td>\n",
       "      <td>0</td>\n",
       "      <td>1</td>\n",
       "    </tr>\n",
       "    <tr>\n",
       "      <th>2</th>\n",
       "      <td>1.0</td>\n",
       "      <td>1</td>\n",
       "      <td>2.0</td>\n",
       "      <td>1</td>\n",
       "      <td>0.0</td>\n",
       "      <td>6000.0</td>\n",
       "      <td>2160.0</td>\n",
       "      <td>249.6</td>\n",
       "      <td>360.0</td>\n",
       "      <td>1.000000</td>\n",
       "      <td>0</td>\n",
       "      <td>1</td>\n",
       "    </tr>\n",
       "    <tr>\n",
       "      <th>3</th>\n",
       "      <td>1.0</td>\n",
       "      <td>1</td>\n",
       "      <td>2.0</td>\n",
       "      <td>1</td>\n",
       "      <td>0.0</td>\n",
       "      <td>2808.0</td>\n",
       "      <td>3055.2</td>\n",
       "      <td>120.0</td>\n",
       "      <td>360.0</td>\n",
       "      <td>0.825444</td>\n",
       "      <td>0</td>\n",
       "      <td>1</td>\n",
       "    </tr>\n",
       "    <tr>\n",
       "      <th>4</th>\n",
       "      <td>1.0</td>\n",
       "      <td>0</td>\n",
       "      <td>0.0</td>\n",
       "      <td>0</td>\n",
       "      <td>0.0</td>\n",
       "      <td>3931.2</td>\n",
       "      <td>0.0</td>\n",
       "      <td>93.6</td>\n",
       "      <td>360.0</td>\n",
       "      <td>1.000000</td>\n",
       "      <td>0</td>\n",
       "      <td>1</td>\n",
       "    </tr>\n",
       "  </tbody>\n",
       "</table>\n",
       "</div>"
      ],
      "text/plain": [
       "   Sex  Marital_Status  Dependents  Qual_var   SE  App_Income_1  App_Income_2  \\\n",
       "0  1.0               1         0.0         1  0.0        6864.0           0.0   \n",
       "1  1.0               1         1.0         1  0.0        3691.2        1800.0   \n",
       "2  1.0               1         2.0         1  0.0        6000.0        2160.0   \n",
       "3  1.0               1         2.0         1  0.0        2808.0        3055.2   \n",
       "4  1.0               0         0.0         0  0.0        3931.2           0.0   \n",
       "\n",
       "   CPL_Amount  CPL_Term  Credit_His  Prop_Area_Semi U  Prop_Area_Urban  \n",
       "0       132.0     360.0    1.000000                 0                1  \n",
       "1       151.2     360.0    1.000000                 0                1  \n",
       "2       249.6     360.0    1.000000                 0                1  \n",
       "3       120.0     360.0    0.825444                 0                1  \n",
       "4        93.6     360.0    1.000000                 0                1  "
      ]
     },
     "execution_count": 35,
     "metadata": {},
     "output_type": "execute_result"
    }
   ],
   "source": [
    "loan1.head()"
   ]
  },
  {
   "cell_type": "code",
   "execution_count": 36,
   "metadata": {},
   "outputs": [
    {
     "name": "stdout",
     "output_type": "stream",
     "text": [
      "   Sex  Marital_Status  Dependents  Qual_var   SE  App_Income_1  App_Income_2  \\\n",
      "0  1.0             1.0         0.0       1.0  0.0        4200.0           0.0   \n",
      "1  NaN             NaN         NaN       NaN  NaN        6000.0           NaN   \n",
      "\n",
      "   CPL_Amount  CPL_Term  Credit_His  Prop_Area_Semi U  Prop_Area_Urban  \n",
      "0       180.0     360.0         1.0               0.0              0.0  \n",
      "1         NaN       NaN         NaN               NaN              NaN  \n"
     ]
    }
   ],
   "source": [
    "mode1=loan1.mode(axis=0)\n",
    "print(mode1)\n",
    "loan1['Sex'].fillna(mode1.iloc[0,0],inplace=True)\n",
    "loan1['Dependents'].fillna(mode1.iloc[0,2],inplace=True)\n",
    "loan1['SE'].fillna(mode1.iloc[0,4],inplace=True)"
   ]
  },
  {
   "cell_type": "code",
   "execution_count": 37,
   "metadata": {},
   "outputs": [
    {
     "data": {
      "text/plain": [
       "0"
      ]
     },
     "execution_count": 37,
     "metadata": {},
     "output_type": "execute_result"
    }
   ],
   "source": [
    "loan.isnull().sum().sum()"
   ]
  },
  {
   "cell_type": "code",
   "execution_count": 38,
   "metadata": {},
   "outputs": [],
   "source": [
    "X_test=loan1"
   ]
  },
  {
   "cell_type": "markdown",
   "metadata": {},
   "source": [
    "# Model Building"
   ]
  },
  {
   "cell_type": "markdown",
   "metadata": {},
   "source": [
    "Lets now build models using different ml algorithms and choose the best model among them"
   ]
  },
  {
   "cell_type": "markdown",
   "metadata": {},
   "source": [
    "# Logistic Regression"
   ]
  },
  {
   "cell_type": "code",
   "execution_count": 39,
   "metadata": {},
   "outputs": [],
   "source": [
    "# import all the required libraries\n",
    "from sklearn.model_selection import KFold\n",
    "from sklearn.linear_model import LogisticRegression\n",
    "from sklearn.model_selection import cross_val_score\n",
    "from sklearn.svm import SVC\n",
    "from sklearn.preprocessing import scale"
   ]
  },
  {
   "cell_type": "code",
   "execution_count": 40,
   "metadata": {},
   "outputs": [],
   "source": [
    "# scale train and test data using scale funtion\n",
    "X_train=scale(X_train)\n",
    "X_test=scale(X_test)"
   ]
  },
  {
   "cell_type": "code",
   "execution_count": 41,
   "metadata": {},
   "outputs": [
    {
     "name": "stdout",
     "output_type": "stream",
     "text": [
      "Accuracy= [0.79674797 0.82926829 0.87804878 0.7804878  0.7704918 ]\n",
      "Average accuracy = 0.8110089297614287\n"
     ]
    }
   ],
   "source": [
    "# declare logisticregression object\n",
    "LR=LogisticRegression(max_iter=200)\n",
    "# declare a kfold object for k fold cross validation\n",
    "kf=KFold(n_splits=5,shuffle=True,random_state=10)\n",
    "# apply cross validation on the train set to get the accuracy\n",
    "accuracy=cross_val_score(LR,X_train,Y_train,cv=kf,scoring='accuracy')\n",
    "print('Accuracy=',accuracy)\n",
    "print('Average accuracy =',accuracy.mean())"
   ]
  },
  {
   "cell_type": "code",
   "execution_count": 42,
   "metadata": {},
   "outputs": [],
   "source": [
    "# store the accuracy scores in a data frame\n",
    "Score_Table=pd.DataFrame(columns=['Model name','Accuracy(%)'])\n",
    "Score_Table.loc[0]=['Logistic Reg',accuracy.mean()*100]"
   ]
  },
  {
   "cell_type": "markdown",
   "metadata": {},
   "source": [
    "# Support Vector Classifier"
   ]
  },
  {
   "cell_type": "code",
   "execution_count": 43,
   "metadata": {},
   "outputs": [
    {
     "name": "stdout",
     "output_type": "stream",
     "text": [
      "Accuracy= [0.79674797 0.82113821 0.8699187  0.76422764 0.76229508]\n",
      "Average accuracy with C=1 is= 0.8028655204584834\n"
     ]
    }
   ],
   "source": [
    "# declare a svc object\n",
    "svc=SVC(C=1)\n",
    "# calculate accuracy score using cross validation\n",
    "svc_accuracy=cross_val_score(svc,X_train,Y_train,cv=kf,scoring='accuracy')\n",
    "# print accuracy scores\n",
    "print('Accuracy=',svc_accuracy)\n",
    "print('Average accuracy with C=1 is=',svc_accuracy.mean())"
   ]
  },
  {
   "cell_type": "code",
   "execution_count": 44,
   "metadata": {},
   "outputs": [],
   "source": [
    "from sklearn.model_selection import GridSearchCV\n",
    "# now lets find the best parameter by grid search method\n",
    "params={\"C\":[0.1,1,10,100,1000]}\n",
    "Gridsearch=GridSearchCV(estimator=svc,param_grid=params,scoring='accuracy',cv=kf,verbose=1,return_train_score=True)"
   ]
  },
  {
   "cell_type": "code",
   "execution_count": 45,
   "metadata": {},
   "outputs": [
    {
     "name": "stdout",
     "output_type": "stream",
     "text": [
      "Fitting 5 folds for each of 5 candidates, totalling 25 fits\n"
     ]
    },
    {
     "name": "stderr",
     "output_type": "stream",
     "text": [
      "[Parallel(n_jobs=1)]: Using backend SequentialBackend with 1 concurrent workers.\n",
      "[Parallel(n_jobs=1)]: Done  25 out of  25 | elapsed:    0.3s finished\n"
     ]
    },
    {
     "data": {
      "text/html": [
       "<div>\n",
       "<style scoped>\n",
       "    .dataframe tbody tr th:only-of-type {\n",
       "        vertical-align: middle;\n",
       "    }\n",
       "\n",
       "    .dataframe tbody tr th {\n",
       "        vertical-align: top;\n",
       "    }\n",
       "\n",
       "    .dataframe thead th {\n",
       "        text-align: right;\n",
       "    }\n",
       "</style>\n",
       "<table border=\"1\" class=\"dataframe\">\n",
       "  <thead>\n",
       "    <tr style=\"text-align: right;\">\n",
       "      <th></th>\n",
       "      <th>mean_fit_time</th>\n",
       "      <th>std_fit_time</th>\n",
       "      <th>mean_score_time</th>\n",
       "      <th>std_score_time</th>\n",
       "      <th>param_C</th>\n",
       "      <th>params</th>\n",
       "      <th>split0_test_score</th>\n",
       "      <th>split1_test_score</th>\n",
       "      <th>split2_test_score</th>\n",
       "      <th>split3_test_score</th>\n",
       "      <th>...</th>\n",
       "      <th>mean_test_score</th>\n",
       "      <th>std_test_score</th>\n",
       "      <th>rank_test_score</th>\n",
       "      <th>split0_train_score</th>\n",
       "      <th>split1_train_score</th>\n",
       "      <th>split2_train_score</th>\n",
       "      <th>split3_train_score</th>\n",
       "      <th>split4_train_score</th>\n",
       "      <th>mean_train_score</th>\n",
       "      <th>std_train_score</th>\n",
       "    </tr>\n",
       "  </thead>\n",
       "  <tbody>\n",
       "    <tr>\n",
       "      <th>0</th>\n",
       "      <td>0.006988</td>\n",
       "      <td>0.000011</td>\n",
       "      <td>0.001402</td>\n",
       "      <td>4.968031e-04</td>\n",
       "      <td>0.1</td>\n",
       "      <td>{'C': 0.1}</td>\n",
       "      <td>0.788618</td>\n",
       "      <td>0.804878</td>\n",
       "      <td>0.804878</td>\n",
       "      <td>0.764228</td>\n",
       "      <td>...</td>\n",
       "      <td>0.776783</td>\n",
       "      <td>0.031475</td>\n",
       "      <td>3</td>\n",
       "      <td>0.798371</td>\n",
       "      <td>0.784114</td>\n",
       "      <td>0.753564</td>\n",
       "      <td>0.792261</td>\n",
       "      <td>0.800813</td>\n",
       "      <td>0.785825</td>\n",
       "      <td>0.017130</td>\n",
       "    </tr>\n",
       "    <tr>\n",
       "      <th>1</th>\n",
       "      <td>0.006391</td>\n",
       "      <td>0.000499</td>\n",
       "      <td>0.001794</td>\n",
       "      <td>3.987774e-04</td>\n",
       "      <td>1</td>\n",
       "      <td>{'C': 1}</td>\n",
       "      <td>0.796748</td>\n",
       "      <td>0.821138</td>\n",
       "      <td>0.869919</td>\n",
       "      <td>0.764228</td>\n",
       "      <td>...</td>\n",
       "      <td>0.802866</td>\n",
       "      <td>0.040016</td>\n",
       "      <td>1</td>\n",
       "      <td>0.832994</td>\n",
       "      <td>0.818737</td>\n",
       "      <td>0.804481</td>\n",
       "      <td>0.830957</td>\n",
       "      <td>0.831301</td>\n",
       "      <td>0.823694</td>\n",
       "      <td>0.010870</td>\n",
       "    </tr>\n",
       "    <tr>\n",
       "      <th>2</th>\n",
       "      <td>0.008769</td>\n",
       "      <td>0.000745</td>\n",
       "      <td>0.001197</td>\n",
       "      <td>3.997584e-04</td>\n",
       "      <td>10</td>\n",
       "      <td>{'C': 10}</td>\n",
       "      <td>0.756098</td>\n",
       "      <td>0.756098</td>\n",
       "      <td>0.853659</td>\n",
       "      <td>0.780488</td>\n",
       "      <td>...</td>\n",
       "      <td>0.780088</td>\n",
       "      <td>0.038051</td>\n",
       "      <td>2</td>\n",
       "      <td>0.896130</td>\n",
       "      <td>0.887984</td>\n",
       "      <td>0.867617</td>\n",
       "      <td>0.890020</td>\n",
       "      <td>0.906504</td>\n",
       "      <td>0.889651</td>\n",
       "      <td>0.012763</td>\n",
       "    </tr>\n",
       "    <tr>\n",
       "      <th>3</th>\n",
       "      <td>0.014960</td>\n",
       "      <td>0.001407</td>\n",
       "      <td>0.000998</td>\n",
       "      <td>4.489872e-06</td>\n",
       "      <td>100</td>\n",
       "      <td>{'C': 100}</td>\n",
       "      <td>0.731707</td>\n",
       "      <td>0.674797</td>\n",
       "      <td>0.731707</td>\n",
       "      <td>0.772358</td>\n",
       "      <td>...</td>\n",
       "      <td>0.723097</td>\n",
       "      <td>0.032368</td>\n",
       "      <td>4</td>\n",
       "      <td>0.951120</td>\n",
       "      <td>0.945010</td>\n",
       "      <td>0.940937</td>\n",
       "      <td>0.932790</td>\n",
       "      <td>0.947154</td>\n",
       "      <td>0.943402</td>\n",
       "      <td>0.006244</td>\n",
       "    </tr>\n",
       "    <tr>\n",
       "      <th>4</th>\n",
       "      <td>0.024134</td>\n",
       "      <td>0.002475</td>\n",
       "      <td>0.000998</td>\n",
       "      <td>6.975526e-07</td>\n",
       "      <td>1000</td>\n",
       "      <td>{'C': 1000}</td>\n",
       "      <td>0.707317</td>\n",
       "      <td>0.715447</td>\n",
       "      <td>0.731707</td>\n",
       "      <td>0.723577</td>\n",
       "      <td>...</td>\n",
       "      <td>0.716593</td>\n",
       "      <td>0.010009</td>\n",
       "      <td>5</td>\n",
       "      <td>0.971487</td>\n",
       "      <td>0.971487</td>\n",
       "      <td>0.963340</td>\n",
       "      <td>0.965377</td>\n",
       "      <td>0.971545</td>\n",
       "      <td>0.968647</td>\n",
       "      <td>0.003560</td>\n",
       "    </tr>\n",
       "  </tbody>\n",
       "</table>\n",
       "<p>5 rows × 21 columns</p>\n",
       "</div>"
      ],
      "text/plain": [
       "   mean_fit_time  std_fit_time  mean_score_time  std_score_time param_C  \\\n",
       "0       0.006988      0.000011         0.001402    4.968031e-04     0.1   \n",
       "1       0.006391      0.000499         0.001794    3.987774e-04       1   \n",
       "2       0.008769      0.000745         0.001197    3.997584e-04      10   \n",
       "3       0.014960      0.001407         0.000998    4.489872e-06     100   \n",
       "4       0.024134      0.002475         0.000998    6.975526e-07    1000   \n",
       "\n",
       "        params  split0_test_score  split1_test_score  split2_test_score  \\\n",
       "0   {'C': 0.1}           0.788618           0.804878           0.804878   \n",
       "1     {'C': 1}           0.796748           0.821138           0.869919   \n",
       "2    {'C': 10}           0.756098           0.756098           0.853659   \n",
       "3   {'C': 100}           0.731707           0.674797           0.731707   \n",
       "4  {'C': 1000}           0.707317           0.715447           0.731707   \n",
       "\n",
       "   split3_test_score  ...  mean_test_score  std_test_score  rank_test_score  \\\n",
       "0           0.764228  ...         0.776783        0.031475                3   \n",
       "1           0.764228  ...         0.802866        0.040016                1   \n",
       "2           0.780488  ...         0.780088        0.038051                2   \n",
       "3           0.772358  ...         0.723097        0.032368                4   \n",
       "4           0.723577  ...         0.716593        0.010009                5   \n",
       "\n",
       "   split0_train_score  split1_train_score  split2_train_score  \\\n",
       "0            0.798371            0.784114            0.753564   \n",
       "1            0.832994            0.818737            0.804481   \n",
       "2            0.896130            0.887984            0.867617   \n",
       "3            0.951120            0.945010            0.940937   \n",
       "4            0.971487            0.971487            0.963340   \n",
       "\n",
       "   split3_train_score  split4_train_score  mean_train_score  std_train_score  \n",
       "0            0.792261            0.800813          0.785825         0.017130  \n",
       "1            0.830957            0.831301          0.823694         0.010870  \n",
       "2            0.890020            0.906504          0.889651         0.012763  \n",
       "3            0.932790            0.947154          0.943402         0.006244  \n",
       "4            0.965377            0.971545          0.968647         0.003560  \n",
       "\n",
       "[5 rows x 21 columns]"
      ]
     },
     "execution_count": 45,
     "metadata": {},
     "output_type": "execute_result"
    }
   ],
   "source": [
    "# fit the data set \n",
    "Gridsearch.fit(X_train,Y_train)\n",
    "# store the results to results variable\n",
    "results=pd.DataFrame(Gridsearch.cv_results_)\n",
    "results"
   ]
  },
  {
   "cell_type": "code",
   "execution_count": 46,
   "metadata": {},
   "outputs": [
    {
     "data": {
      "image/png": "[encoded data removed]",
      "text/plain": [
       "<Figure size 432x432 with 1 Axes>"
      ]
     },
     "metadata": {
      "needs_background": "light"
     },
     "output_type": "display_data"
    }
   ],
   "source": [
    "# plot the accuracy vs C by using matplot library\n",
    "plt.figure(figsize=(6,6))\n",
    "plt.plot(results['param_C'],results['mean_test_score'])\n",
    "plt.plot(results['param_C'],results['mean_train_score'])\n",
    "plt.xlabel('C')\n",
    "plt.ylabel('score')\n",
    "plt.legend(['test score','train score'], loc='upper right')\n",
    "plt.xscale('log')\n",
    "plt.show()"
   ]
  },
  {
   "cell_type": "code",
   "execution_count": 47,
   "metadata": {},
   "outputs": [
    {
     "name": "stdout",
     "output_type": "stream",
     "text": [
      "Fitting 5 folds for each of 14 candidates, totalling 70 fits\n"
     ]
    },
    {
     "name": "stderr",
     "output_type": "stream",
     "text": [
      "[Parallel(n_jobs=1)]: Using backend SequentialBackend with 1 concurrent workers.\n",
      "[Parallel(n_jobs=1)]: Done  70 out of  70 | elapsed:    0.8s finished\n"
     ]
    },
    {
     "data": {
      "text/html": [
       "<div>\n",
       "<style scoped>\n",
       "    .dataframe tbody tr th:only-of-type {\n",
       "        vertical-align: middle;\n",
       "    }\n",
       "\n",
       "    .dataframe tbody tr th {\n",
       "        vertical-align: top;\n",
       "    }\n",
       "\n",
       "    .dataframe thead th {\n",
       "        text-align: right;\n",
       "    }\n",
       "</style>\n",
       "<table border=\"1\" class=\"dataframe\">\n",
       "  <thead>\n",
       "    <tr style=\"text-align: right;\">\n",
       "      <th></th>\n",
       "      <th>mean_fit_time</th>\n",
       "      <th>std_fit_time</th>\n",
       "      <th>mean_score_time</th>\n",
       "      <th>std_score_time</th>\n",
       "      <th>param_C</th>\n",
       "      <th>params</th>\n",
       "      <th>split0_test_score</th>\n",
       "      <th>split1_test_score</th>\n",
       "      <th>split2_test_score</th>\n",
       "      <th>split3_test_score</th>\n",
       "      <th>...</th>\n",
       "      <th>mean_test_score</th>\n",
       "      <th>std_test_score</th>\n",
       "      <th>rank_test_score</th>\n",
       "      <th>split0_train_score</th>\n",
       "      <th>split1_train_score</th>\n",
       "      <th>split2_train_score</th>\n",
       "      <th>split3_train_score</th>\n",
       "      <th>split4_train_score</th>\n",
       "      <th>mean_train_score</th>\n",
       "      <th>std_train_score</th>\n",
       "    </tr>\n",
       "  </thead>\n",
       "  <tbody>\n",
       "    <tr>\n",
       "      <th>0</th>\n",
       "      <td>0.007185</td>\n",
       "      <td>0.000746</td>\n",
       "      <td>0.001699</td>\n",
       "      <td>4.105315e-04</td>\n",
       "      <td>0.5</td>\n",
       "      <td>{'C': 0.5}</td>\n",
       "      <td>0.796748</td>\n",
       "      <td>0.829268</td>\n",
       "      <td>0.869919</td>\n",
       "      <td>0.772358</td>\n",
       "      <td>...</td>\n",
       "      <td>0.807757</td>\n",
       "      <td>0.037656</td>\n",
       "      <td>1</td>\n",
       "      <td>0.820774</td>\n",
       "      <td>0.812627</td>\n",
       "      <td>0.798371</td>\n",
       "      <td>0.822811</td>\n",
       "      <td>0.823171</td>\n",
       "      <td>0.815551</td>\n",
       "      <td>0.009399</td>\n",
       "    </tr>\n",
       "    <tr>\n",
       "      <th>1</th>\n",
       "      <td>0.006787</td>\n",
       "      <td>0.000399</td>\n",
       "      <td>0.001377</td>\n",
       "      <td>4.767470e-04</td>\n",
       "      <td>0.6</td>\n",
       "      <td>{'C': 0.6}</td>\n",
       "      <td>0.796748</td>\n",
       "      <td>0.829268</td>\n",
       "      <td>0.869919</td>\n",
       "      <td>0.772358</td>\n",
       "      <td>...</td>\n",
       "      <td>0.807757</td>\n",
       "      <td>0.037656</td>\n",
       "      <td>1</td>\n",
       "      <td>0.822811</td>\n",
       "      <td>0.814664</td>\n",
       "      <td>0.800407</td>\n",
       "      <td>0.822811</td>\n",
       "      <td>0.825203</td>\n",
       "      <td>0.817179</td>\n",
       "      <td>0.009115</td>\n",
       "    </tr>\n",
       "    <tr>\n",
       "      <th>2</th>\n",
       "      <td>0.008179</td>\n",
       "      <td>0.001477</td>\n",
       "      <td>0.001396</td>\n",
       "      <td>4.868210e-04</td>\n",
       "      <td>0.7</td>\n",
       "      <td>{'C': 0.7}</td>\n",
       "      <td>0.796748</td>\n",
       "      <td>0.829268</td>\n",
       "      <td>0.869919</td>\n",
       "      <td>0.772358</td>\n",
       "      <td>...</td>\n",
       "      <td>0.807757</td>\n",
       "      <td>0.037656</td>\n",
       "      <td>1</td>\n",
       "      <td>0.824847</td>\n",
       "      <td>0.814664</td>\n",
       "      <td>0.800407</td>\n",
       "      <td>0.824847</td>\n",
       "      <td>0.825203</td>\n",
       "      <td>0.817994</td>\n",
       "      <td>0.009657</td>\n",
       "    </tr>\n",
       "    <tr>\n",
       "      <th>3</th>\n",
       "      <td>0.009566</td>\n",
       "      <td>0.001016</td>\n",
       "      <td>0.001609</td>\n",
       "      <td>4.995374e-04</td>\n",
       "      <td>0.8</td>\n",
       "      <td>{'C': 0.8}</td>\n",
       "      <td>0.796748</td>\n",
       "      <td>0.829268</td>\n",
       "      <td>0.869919</td>\n",
       "      <td>0.772358</td>\n",
       "      <td>...</td>\n",
       "      <td>0.806118</td>\n",
       "      <td>0.039381</td>\n",
       "      <td>4</td>\n",
       "      <td>0.824847</td>\n",
       "      <td>0.816701</td>\n",
       "      <td>0.800407</td>\n",
       "      <td>0.824847</td>\n",
       "      <td>0.825203</td>\n",
       "      <td>0.818401</td>\n",
       "      <td>0.009550</td>\n",
       "    </tr>\n",
       "    <tr>\n",
       "      <th>4</th>\n",
       "      <td>0.007780</td>\n",
       "      <td>0.000748</td>\n",
       "      <td>0.001594</td>\n",
       "      <td>4.870111e-04</td>\n",
       "      <td>0.9</td>\n",
       "      <td>{'C': 0.9}</td>\n",
       "      <td>0.796748</td>\n",
       "      <td>0.821138</td>\n",
       "      <td>0.869919</td>\n",
       "      <td>0.764228</td>\n",
       "      <td>...</td>\n",
       "      <td>0.802866</td>\n",
       "      <td>0.040016</td>\n",
       "      <td>8</td>\n",
       "      <td>0.828921</td>\n",
       "      <td>0.818737</td>\n",
       "      <td>0.800407</td>\n",
       "      <td>0.824847</td>\n",
       "      <td>0.829268</td>\n",
       "      <td>0.820436</td>\n",
       "      <td>0.010710</td>\n",
       "    </tr>\n",
       "    <tr>\n",
       "      <th>5</th>\n",
       "      <td>0.007187</td>\n",
       "      <td>0.000975</td>\n",
       "      <td>0.001397</td>\n",
       "      <td>4.896101e-04</td>\n",
       "      <td>1</td>\n",
       "      <td>{'C': 1}</td>\n",
       "      <td>0.796748</td>\n",
       "      <td>0.821138</td>\n",
       "      <td>0.869919</td>\n",
       "      <td>0.764228</td>\n",
       "      <td>...</td>\n",
       "      <td>0.802866</td>\n",
       "      <td>0.040016</td>\n",
       "      <td>8</td>\n",
       "      <td>0.832994</td>\n",
       "      <td>0.818737</td>\n",
       "      <td>0.804481</td>\n",
       "      <td>0.830957</td>\n",
       "      <td>0.831301</td>\n",
       "      <td>0.823694</td>\n",
       "      <td>0.010870</td>\n",
       "    </tr>\n",
       "    <tr>\n",
       "      <th>6</th>\n",
       "      <td>0.006782</td>\n",
       "      <td>0.000746</td>\n",
       "      <td>0.000997</td>\n",
       "      <td>8.714517e-07</td>\n",
       "      <td>1.1</td>\n",
       "      <td>{'C': 1.1}</td>\n",
       "      <td>0.796748</td>\n",
       "      <td>0.821138</td>\n",
       "      <td>0.878049</td>\n",
       "      <td>0.764228</td>\n",
       "      <td>...</td>\n",
       "      <td>0.804492</td>\n",
       "      <td>0.042777</td>\n",
       "      <td>5</td>\n",
       "      <td>0.835031</td>\n",
       "      <td>0.818737</td>\n",
       "      <td>0.806517</td>\n",
       "      <td>0.830957</td>\n",
       "      <td>0.835366</td>\n",
       "      <td>0.825322</td>\n",
       "      <td>0.011170</td>\n",
       "    </tr>\n",
       "    <tr>\n",
       "      <th>7</th>\n",
       "      <td>0.006782</td>\n",
       "      <td>0.000746</td>\n",
       "      <td>0.001197</td>\n",
       "      <td>3.990415e-04</td>\n",
       "      <td>1.2</td>\n",
       "      <td>{'C': 1.2}</td>\n",
       "      <td>0.796748</td>\n",
       "      <td>0.821138</td>\n",
       "      <td>0.878049</td>\n",
       "      <td>0.764228</td>\n",
       "      <td>...</td>\n",
       "      <td>0.804492</td>\n",
       "      <td>0.042777</td>\n",
       "      <td>5</td>\n",
       "      <td>0.837067</td>\n",
       "      <td>0.818737</td>\n",
       "      <td>0.810591</td>\n",
       "      <td>0.837067</td>\n",
       "      <td>0.835366</td>\n",
       "      <td>0.827766</td>\n",
       "      <td>0.011021</td>\n",
       "    </tr>\n",
       "    <tr>\n",
       "      <th>8</th>\n",
       "      <td>0.006781</td>\n",
       "      <td>0.000747</td>\n",
       "      <td>0.001397</td>\n",
       "      <td>4.892795e-04</td>\n",
       "      <td>1.3</td>\n",
       "      <td>{'C': 1.3}</td>\n",
       "      <td>0.796748</td>\n",
       "      <td>0.821138</td>\n",
       "      <td>0.878049</td>\n",
       "      <td>0.764228</td>\n",
       "      <td>...</td>\n",
       "      <td>0.804492</td>\n",
       "      <td>0.042777</td>\n",
       "      <td>5</td>\n",
       "      <td>0.837067</td>\n",
       "      <td>0.824847</td>\n",
       "      <td>0.810591</td>\n",
       "      <td>0.837067</td>\n",
       "      <td>0.839431</td>\n",
       "      <td>0.829801</td>\n",
       "      <td>0.010880</td>\n",
       "    </tr>\n",
       "    <tr>\n",
       "      <th>9</th>\n",
       "      <td>0.007580</td>\n",
       "      <td>0.001197</td>\n",
       "      <td>0.001197</td>\n",
       "      <td>3.997803e-04</td>\n",
       "      <td>1.4</td>\n",
       "      <td>{'C': 1.4}</td>\n",
       "      <td>0.796748</td>\n",
       "      <td>0.821138</td>\n",
       "      <td>0.869919</td>\n",
       "      <td>0.764228</td>\n",
       "      <td>...</td>\n",
       "      <td>0.799587</td>\n",
       "      <td>0.043707</td>\n",
       "      <td>11</td>\n",
       "      <td>0.839104</td>\n",
       "      <td>0.824847</td>\n",
       "      <td>0.818737</td>\n",
       "      <td>0.839104</td>\n",
       "      <td>0.843496</td>\n",
       "      <td>0.833058</td>\n",
       "      <td>0.009535</td>\n",
       "    </tr>\n",
       "    <tr>\n",
       "      <th>10</th>\n",
       "      <td>0.006782</td>\n",
       "      <td>0.000399</td>\n",
       "      <td>0.000991</td>\n",
       "      <td>1.465342e-05</td>\n",
       "      <td>1.5</td>\n",
       "      <td>{'C': 1.5}</td>\n",
       "      <td>0.796748</td>\n",
       "      <td>0.821138</td>\n",
       "      <td>0.869919</td>\n",
       "      <td>0.772358</td>\n",
       "      <td>...</td>\n",
       "      <td>0.801213</td>\n",
       "      <td>0.042496</td>\n",
       "      <td>10</td>\n",
       "      <td>0.845214</td>\n",
       "      <td>0.826884</td>\n",
       "      <td>0.820774</td>\n",
       "      <td>0.841141</td>\n",
       "      <td>0.845528</td>\n",
       "      <td>0.835908</td>\n",
       "      <td>0.010169</td>\n",
       "    </tr>\n",
       "    <tr>\n",
       "      <th>11</th>\n",
       "      <td>0.006595</td>\n",
       "      <td>0.000493</td>\n",
       "      <td>0.000981</td>\n",
       "      <td>2.118488e-05</td>\n",
       "      <td>1.6</td>\n",
       "      <td>{'C': 1.6}</td>\n",
       "      <td>0.796748</td>\n",
       "      <td>0.804878</td>\n",
       "      <td>0.869919</td>\n",
       "      <td>0.772358</td>\n",
       "      <td>...</td>\n",
       "      <td>0.797961</td>\n",
       "      <td>0.041456</td>\n",
       "      <td>12</td>\n",
       "      <td>0.847251</td>\n",
       "      <td>0.826884</td>\n",
       "      <td>0.820774</td>\n",
       "      <td>0.843177</td>\n",
       "      <td>0.847561</td>\n",
       "      <td>0.837129</td>\n",
       "      <td>0.011138</td>\n",
       "    </tr>\n",
       "    <tr>\n",
       "      <th>12</th>\n",
       "      <td>0.005984</td>\n",
       "      <td>0.000643</td>\n",
       "      <td>0.001393</td>\n",
       "      <td>7.818860e-04</td>\n",
       "      <td>1.7</td>\n",
       "      <td>{'C': 1.7}</td>\n",
       "      <td>0.796748</td>\n",
       "      <td>0.804878</td>\n",
       "      <td>0.869919</td>\n",
       "      <td>0.772358</td>\n",
       "      <td>...</td>\n",
       "      <td>0.797961</td>\n",
       "      <td>0.041456</td>\n",
       "      <td>12</td>\n",
       "      <td>0.849287</td>\n",
       "      <td>0.828921</td>\n",
       "      <td>0.820774</td>\n",
       "      <td>0.845214</td>\n",
       "      <td>0.851626</td>\n",
       "      <td>0.839164</td>\n",
       "      <td>0.012145</td>\n",
       "    </tr>\n",
       "    <tr>\n",
       "      <th>13</th>\n",
       "      <td>0.006586</td>\n",
       "      <td>0.000492</td>\n",
       "      <td>0.001191</td>\n",
       "      <td>4.027188e-04</td>\n",
       "      <td>2</td>\n",
       "      <td>{'C': 2}</td>\n",
       "      <td>0.780488</td>\n",
       "      <td>0.813008</td>\n",
       "      <td>0.878049</td>\n",
       "      <td>0.772358</td>\n",
       "      <td>...</td>\n",
       "      <td>0.796321</td>\n",
       "      <td>0.047368</td>\n",
       "      <td>14</td>\n",
       "      <td>0.857434</td>\n",
       "      <td>0.830957</td>\n",
       "      <td>0.828921</td>\n",
       "      <td>0.847251</td>\n",
       "      <td>0.853659</td>\n",
       "      <td>0.843644</td>\n",
       "      <td>0.011672</td>\n",
       "    </tr>\n",
       "  </tbody>\n",
       "</table>\n",
       "<p>14 rows × 21 columns</p>\n",
       "</div>"
      ],
      "text/plain": [
       "    mean_fit_time  std_fit_time  mean_score_time  std_score_time param_C  \\\n",
       "0        0.007185      0.000746         0.001699    4.105315e-04     0.5   \n",
       "1        0.006787      0.000399         0.001377    4.767470e-04     0.6   \n",
       "2        0.008179      0.001477         0.001396    4.868210e-04     0.7   \n",
       "3        0.009566      0.001016         0.001609    4.995374e-04     0.8   \n",
       "4        0.007780      0.000748         0.001594    4.870111e-04     0.9   \n",
       "5        0.007187      0.000975         0.001397    4.896101e-04       1   \n",
       "6        0.006782      0.000746         0.000997    8.714517e-07     1.1   \n",
       "7        0.006782      0.000746         0.001197    3.990415e-04     1.2   \n",
       "8        0.006781      0.000747         0.001397    4.892795e-04     1.3   \n",
       "9        0.007580      0.001197         0.001197    3.997803e-04     1.4   \n",
       "10       0.006782      0.000399         0.000991    1.465342e-05     1.5   \n",
       "11       0.006595      0.000493         0.000981    2.118488e-05     1.6   \n",
       "12       0.005984      0.000643         0.001393    7.818860e-04     1.7   \n",
       "13       0.006586      0.000492         0.001191    4.027188e-04       2   \n",
       "\n",
       "        params  split0_test_score  split1_test_score  split2_test_score  \\\n",
       "0   {'C': 0.5}           0.796748           0.829268           0.869919   \n",
       "1   {'C': 0.6}           0.796748           0.829268           0.869919   \n",
       "2   {'C': 0.7}           0.796748           0.829268           0.869919   \n",
       "3   {'C': 0.8}           0.796748           0.829268           0.869919   \n",
       "4   {'C': 0.9}           0.796748           0.821138           0.869919   \n",
       "5     {'C': 1}           0.796748           0.821138           0.869919   \n",
       "6   {'C': 1.1}           0.796748           0.821138           0.878049   \n",
       "7   {'C': 1.2}           0.796748           0.821138           0.878049   \n",
       "8   {'C': 1.3}           0.796748           0.821138           0.878049   \n",
       "9   {'C': 1.4}           0.796748           0.821138           0.869919   \n",
       "10  {'C': 1.5}           0.796748           0.821138           0.869919   \n",
       "11  {'C': 1.6}           0.796748           0.804878           0.869919   \n",
       "12  {'C': 1.7}           0.796748           0.804878           0.869919   \n",
       "13    {'C': 2}           0.780488           0.813008           0.878049   \n",
       "\n",
       "    split3_test_score  ...  mean_test_score  std_test_score  rank_test_score  \\\n",
       "0            0.772358  ...         0.807757        0.037656                1   \n",
       "1            0.772358  ...         0.807757        0.037656                1   \n",
       "2            0.772358  ...         0.807757        0.037656                1   \n",
       "3            0.772358  ...         0.806118        0.039381                4   \n",
       "4            0.764228  ...         0.802866        0.040016                8   \n",
       "5            0.764228  ...         0.802866        0.040016                8   \n",
       "6            0.764228  ...         0.804492        0.042777                5   \n",
       "7            0.764228  ...         0.804492        0.042777                5   \n",
       "8            0.764228  ...         0.804492        0.042777                5   \n",
       "9            0.764228  ...         0.799587        0.043707               11   \n",
       "10           0.772358  ...         0.801213        0.042496               10   \n",
       "11           0.772358  ...         0.797961        0.041456               12   \n",
       "12           0.772358  ...         0.797961        0.041456               12   \n",
       "13           0.772358  ...         0.796321        0.047368               14   \n",
       "\n",
       "    split0_train_score  split1_train_score  split2_train_score  \\\n",
       "0             0.820774            0.812627            0.798371   \n",
       "1             0.822811            0.814664            0.800407   \n",
       "2             0.824847            0.814664            0.800407   \n",
       "3             0.824847            0.816701            0.800407   \n",
       "4             0.828921            0.818737            0.800407   \n",
       "5             0.832994            0.818737            0.804481   \n",
       "6             0.835031            0.818737            0.806517   \n",
       "7             0.837067            0.818737            0.810591   \n",
       "8             0.837067            0.824847            0.810591   \n",
       "9             0.839104            0.824847            0.818737   \n",
       "10            0.845214            0.826884            0.820774   \n",
       "11            0.847251            0.826884            0.820774   \n",
       "12            0.849287            0.828921            0.820774   \n",
       "13            0.857434            0.830957            0.828921   \n",
       "\n",
       "    split3_train_score  split4_train_score  mean_train_score  std_train_score  \n",
       "0             0.822811            0.823171          0.815551         0.009399  \n",
       "1             0.822811            0.825203          0.817179         0.009115  \n",
       "2             0.824847            0.825203          0.817994         0.009657  \n",
       "3             0.824847            0.825203          0.818401         0.009550  \n",
       "4             0.824847            0.829268          0.820436         0.010710  \n",
       "5             0.830957            0.831301          0.823694         0.010870  \n",
       "6             0.830957            0.835366          0.825322         0.011170  \n",
       "7             0.837067            0.835366          0.827766         0.011021  \n",
       "8             0.837067            0.839431          0.829801         0.010880  \n",
       "9             0.839104            0.843496          0.833058         0.009535  \n",
       "10            0.841141            0.845528          0.835908         0.010169  \n",
       "11            0.843177            0.847561          0.837129         0.011138  \n",
       "12            0.845214            0.851626          0.839164         0.012145  \n",
       "13            0.847251            0.853659          0.843644         0.011672  \n",
       "\n",
       "[14 rows x 21 columns]"
      ]
     },
     "execution_count": 47,
     "metadata": {},
     "output_type": "execute_result"
    }
   ],
   "source": [
    "# now lets tune the parameter more and search for best parameter\n",
    "params={\"C\":[0.5,0.6,0.7,0.8,0.9,1,1.1,1.2,1.3,1.4,1.5,1.6,1.7,2]}\n",
    "Gridsearch=GridSearchCV(estimator=svc,param_grid=params,scoring='accuracy',cv=kf,verbose=1,return_train_score=True)\n",
    "Gridsearch.fit(X_train,Y_train)\n",
    "results=pd.DataFrame(Gridsearch.cv_results_)\n",
    "results"
   ]
  },
  {
   "cell_type": "code",
   "execution_count": 48,
   "metadata": {},
   "outputs": [
    {
     "data": {
      "image/png": "[encoded data removed]",
      "text/plain": [
       "<Figure size 432x432 with 1 Axes>"
      ]
     },
     "metadata": {
      "needs_background": "light"
     },
     "output_type": "display_data"
    }
   ],
   "source": [
    "plt.figure(figsize=(6,6))\n",
    "plt.plot(results['param_C'],results['mean_test_score'])\n",
    "plt.plot(results['param_C'],results['mean_train_score'])\n",
    "plt.xlabel('C')\n",
    "plt.ylabel('score')\n",
    "plt.legend(['test score','train score'], loc='upper right')\n",
    "plt.show()"
   ]
  },
  {
   "cell_type": "code",
   "execution_count": 49,
   "metadata": {},
   "outputs": [
    {
     "data": {
      "text/html": [
       "<div>\n",
       "<style scoped>\n",
       "    .dataframe tbody tr th:only-of-type {\n",
       "        vertical-align: middle;\n",
       "    }\n",
       "\n",
       "    .dataframe tbody tr th {\n",
       "        vertical-align: top;\n",
       "    }\n",
       "\n",
       "    .dataframe thead th {\n",
       "        text-align: right;\n",
       "    }\n",
       "</style>\n",
       "<table border=\"1\" class=\"dataframe\">\n",
       "  <thead>\n",
       "    <tr style=\"text-align: right;\">\n",
       "      <th></th>\n",
       "      <th>mean_fit_time</th>\n",
       "      <th>std_fit_time</th>\n",
       "      <th>mean_score_time</th>\n",
       "      <th>std_score_time</th>\n",
       "      <th>param_C</th>\n",
       "      <th>params</th>\n",
       "      <th>split0_test_score</th>\n",
       "      <th>split1_test_score</th>\n",
       "      <th>split2_test_score</th>\n",
       "      <th>split3_test_score</th>\n",
       "      <th>...</th>\n",
       "      <th>mean_test_score</th>\n",
       "      <th>std_test_score</th>\n",
       "      <th>rank_test_score</th>\n",
       "      <th>split0_train_score</th>\n",
       "      <th>split1_train_score</th>\n",
       "      <th>split2_train_score</th>\n",
       "      <th>split3_train_score</th>\n",
       "      <th>split4_train_score</th>\n",
       "      <th>mean_train_score</th>\n",
       "      <th>std_train_score</th>\n",
       "    </tr>\n",
       "  </thead>\n",
       "  <tbody>\n",
       "    <tr>\n",
       "      <th>0</th>\n",
       "      <td>0.007185</td>\n",
       "      <td>0.000746</td>\n",
       "      <td>0.001699</td>\n",
       "      <td>0.000411</td>\n",
       "      <td>0.5</td>\n",
       "      <td>{'C': 0.5}</td>\n",
       "      <td>0.796748</td>\n",
       "      <td>0.829268</td>\n",
       "      <td>0.869919</td>\n",
       "      <td>0.772358</td>\n",
       "      <td>...</td>\n",
       "      <td>0.807757</td>\n",
       "      <td>0.037656</td>\n",
       "      <td>1</td>\n",
       "      <td>0.820774</td>\n",
       "      <td>0.812627</td>\n",
       "      <td>0.798371</td>\n",
       "      <td>0.822811</td>\n",
       "      <td>0.823171</td>\n",
       "      <td>0.815551</td>\n",
       "      <td>0.009399</td>\n",
       "    </tr>\n",
       "    <tr>\n",
       "      <th>1</th>\n",
       "      <td>0.006787</td>\n",
       "      <td>0.000399</td>\n",
       "      <td>0.001377</td>\n",
       "      <td>0.000477</td>\n",
       "      <td>0.6</td>\n",
       "      <td>{'C': 0.6}</td>\n",
       "      <td>0.796748</td>\n",
       "      <td>0.829268</td>\n",
       "      <td>0.869919</td>\n",
       "      <td>0.772358</td>\n",
       "      <td>...</td>\n",
       "      <td>0.807757</td>\n",
       "      <td>0.037656</td>\n",
       "      <td>1</td>\n",
       "      <td>0.822811</td>\n",
       "      <td>0.814664</td>\n",
       "      <td>0.800407</td>\n",
       "      <td>0.822811</td>\n",
       "      <td>0.825203</td>\n",
       "      <td>0.817179</td>\n",
       "      <td>0.009115</td>\n",
       "    </tr>\n",
       "    <tr>\n",
       "      <th>2</th>\n",
       "      <td>0.008179</td>\n",
       "      <td>0.001477</td>\n",
       "      <td>0.001396</td>\n",
       "      <td>0.000487</td>\n",
       "      <td>0.7</td>\n",
       "      <td>{'C': 0.7}</td>\n",
       "      <td>0.796748</td>\n",
       "      <td>0.829268</td>\n",
       "      <td>0.869919</td>\n",
       "      <td>0.772358</td>\n",
       "      <td>...</td>\n",
       "      <td>0.807757</td>\n",
       "      <td>0.037656</td>\n",
       "      <td>1</td>\n",
       "      <td>0.824847</td>\n",
       "      <td>0.814664</td>\n",
       "      <td>0.800407</td>\n",
       "      <td>0.824847</td>\n",
       "      <td>0.825203</td>\n",
       "      <td>0.817994</td>\n",
       "      <td>0.009657</td>\n",
       "    </tr>\n",
       "  </tbody>\n",
       "</table>\n",
       "<p>3 rows × 21 columns</p>\n",
       "</div>"
      ],
      "text/plain": [
       "   mean_fit_time  std_fit_time  mean_score_time  std_score_time param_C  \\\n",
       "0       0.007185      0.000746         0.001699        0.000411     0.5   \n",
       "1       0.006787      0.000399         0.001377        0.000477     0.6   \n",
       "2       0.008179      0.001477         0.001396        0.000487     0.7   \n",
       "\n",
       "       params  split0_test_score  split1_test_score  split2_test_score  \\\n",
       "0  {'C': 0.5}           0.796748           0.829268           0.869919   \n",
       "1  {'C': 0.6}           0.796748           0.829268           0.869919   \n",
       "2  {'C': 0.7}           0.796748           0.829268           0.869919   \n",
       "\n",
       "   split3_test_score  ...  mean_test_score  std_test_score  rank_test_score  \\\n",
       "0           0.772358  ...         0.807757        0.037656                1   \n",
       "1           0.772358  ...         0.807757        0.037656                1   \n",
       "2           0.772358  ...         0.807757        0.037656                1   \n",
       "\n",
       "   split0_train_score  split1_train_score  split2_train_score  \\\n",
       "0            0.820774            0.812627            0.798371   \n",
       "1            0.822811            0.814664            0.800407   \n",
       "2            0.824847            0.814664            0.800407   \n",
       "\n",
       "   split3_train_score  split4_train_score  mean_train_score  std_train_score  \n",
       "0            0.822811            0.823171          0.815551         0.009399  \n",
       "1            0.822811            0.825203          0.817179         0.009115  \n",
       "2            0.824847            0.825203          0.817994         0.009657  \n",
       "\n",
       "[3 rows x 21 columns]"
      ]
     },
     "execution_count": 49,
     "metadata": {},
     "output_type": "execute_result"
    }
   ],
   "source": [
    "# see which parameter value gives best result\n",
    "results[results.mean_test_score==results.mean_test_score.max()]"
   ]
  },
  {
   "cell_type": "code",
   "execution_count": 50,
   "metadata": {},
   "outputs": [
    {
     "name": "stdout",
     "output_type": "stream",
     "text": [
      "best score for SVC= 0.8077568972411037\n",
      "best parameter for SVC= {'C': 0.5}\n"
     ]
    }
   ],
   "source": [
    "print('best score for SVC=',Gridsearch.best_score_)\n",
    "print('best parameter for SVC=',Gridsearch.best_params_)"
   ]
  },
  {
   "cell_type": "code",
   "execution_count": 51,
   "metadata": {},
   "outputs": [
    {
     "name": "stdout",
     "output_type": "stream",
     "text": [
      "Accuracy for SVC= [0.79674797 0.82926829 0.8699187  0.77235772 0.7704918 ]\n",
      "Mean Accuracy for SVC= 0.8077568972411037\n"
     ]
    }
   ],
   "source": [
    "# store and print the best parameter \n",
    "best_c=Gridsearch.best_params_\n",
    "model=SVC(best_c['C'])\n",
    "svc_accuracy1=cross_val_score(model,X_train,Y_train,cv=kf,scoring='accuracy')\n",
    "print('Accuracy for SVC=',svc_accuracy1)\n",
    "print('Mean Accuracy for SVC=',svc_accuracy1.mean())"
   ]
  },
  {
   "cell_type": "code",
   "execution_count": 52,
   "metadata": {},
   "outputs": [],
   "source": [
    "# store the accuracy score to the dataframe\n",
    "Score_Table.loc[1]=['SVC for C=0.5',svc_accuracy1.mean()*100]"
   ]
  },
  {
   "cell_type": "markdown",
   "metadata": {},
   "source": [
    "# K-Nearest Neighbor"
   ]
  },
  {
   "cell_type": "code",
   "execution_count": 53,
   "metadata": {},
   "outputs": [],
   "source": [
    "# now lets build the model using knn \n",
    "from sklearn import neighbors\n",
    "# apply grid search cv to find the best value of number of neigbors\n",
    "N={\"n_neighbors\":[1,2,5,10,20,30,40,50,60]}\n",
    "clf=neighbors.KNeighborsClassifier()\n",
    "Gridsearch=GridSearchCV(estimator=clf,param_grid=N,scoring='accuracy',cv=kf,verbose=1,return_train_score=True)"
   ]
  },
  {
   "cell_type": "code",
   "execution_count": 54,
   "metadata": {},
   "outputs": [
    {
     "name": "stdout",
     "output_type": "stream",
     "text": [
      "Fitting 5 folds for each of 9 candidates, totalling 45 fits\n"
     ]
    },
    {
     "name": "stderr",
     "output_type": "stream",
     "text": [
      "[Parallel(n_jobs=1)]: Using backend SequentialBackend with 1 concurrent workers.\n",
      "[Parallel(n_jobs=1)]: Done  45 out of  45 | elapsed:    1.1s finished\n"
     ]
    },
    {
     "data": {
      "text/html": [
       "<div>\n",
       "<style scoped>\n",
       "    .dataframe tbody tr th:only-of-type {\n",
       "        vertical-align: middle;\n",
       "    }\n",
       "\n",
       "    .dataframe tbody tr th {\n",
       "        vertical-align: top;\n",
       "    }\n",
       "\n",
       "    .dataframe thead th {\n",
       "        text-align: right;\n",
       "    }\n",
       "</style>\n",
       "<table border=\"1\" class=\"dataframe\">\n",
       "  <thead>\n",
       "    <tr style=\"text-align: right;\">\n",
       "      <th></th>\n",
       "      <th>mean_fit_time</th>\n",
       "      <th>std_fit_time</th>\n",
       "      <th>mean_score_time</th>\n",
       "      <th>std_score_time</th>\n",
       "      <th>param_n_neighbors</th>\n",
       "      <th>params</th>\n",
       "      <th>split0_test_score</th>\n",
       "      <th>split1_test_score</th>\n",
       "      <th>split2_test_score</th>\n",
       "      <th>split3_test_score</th>\n",
       "      <th>...</th>\n",
       "      <th>mean_test_score</th>\n",
       "      <th>std_test_score</th>\n",
       "      <th>rank_test_score</th>\n",
       "      <th>split0_train_score</th>\n",
       "      <th>split1_train_score</th>\n",
       "      <th>split2_train_score</th>\n",
       "      <th>split3_train_score</th>\n",
       "      <th>split4_train_score</th>\n",
       "      <th>mean_train_score</th>\n",
       "      <th>std_train_score</th>\n",
       "    </tr>\n",
       "  </thead>\n",
       "  <tbody>\n",
       "    <tr>\n",
       "      <th>0</th>\n",
       "      <td>0.001999</td>\n",
       "      <td>0.000631</td>\n",
       "      <td>0.004978</td>\n",
       "      <td>0.000630</td>\n",
       "      <td>1</td>\n",
       "      <td>{'n_neighbors': 1}</td>\n",
       "      <td>0.699187</td>\n",
       "      <td>0.691057</td>\n",
       "      <td>0.756098</td>\n",
       "      <td>0.707317</td>\n",
       "      <td>...</td>\n",
       "      <td>0.714994</td>\n",
       "      <td>0.022853</td>\n",
       "      <td>8</td>\n",
       "      <td>1.000000</td>\n",
       "      <td>1.000000</td>\n",
       "      <td>1.000000</td>\n",
       "      <td>1.000000</td>\n",
       "      <td>1.000000</td>\n",
       "      <td>1.000000</td>\n",
       "      <td>0.000000</td>\n",
       "    </tr>\n",
       "    <tr>\n",
       "      <th>1</th>\n",
       "      <td>0.001596</td>\n",
       "      <td>0.000490</td>\n",
       "      <td>0.005185</td>\n",
       "      <td>0.000399</td>\n",
       "      <td>2</td>\n",
       "      <td>{'n_neighbors': 2}</td>\n",
       "      <td>0.666667</td>\n",
       "      <td>0.642276</td>\n",
       "      <td>0.707317</td>\n",
       "      <td>0.650407</td>\n",
       "      <td>...</td>\n",
       "      <td>0.666120</td>\n",
       "      <td>0.022440</td>\n",
       "      <td>9</td>\n",
       "      <td>0.881874</td>\n",
       "      <td>0.879837</td>\n",
       "      <td>0.853360</td>\n",
       "      <td>0.863544</td>\n",
       "      <td>0.873984</td>\n",
       "      <td>0.870520</td>\n",
       "      <td>0.010685</td>\n",
       "    </tr>\n",
       "    <tr>\n",
       "      <th>2</th>\n",
       "      <td>0.001396</td>\n",
       "      <td>0.000489</td>\n",
       "      <td>0.005779</td>\n",
       "      <td>0.000984</td>\n",
       "      <td>5</td>\n",
       "      <td>{'n_neighbors': 5}</td>\n",
       "      <td>0.756098</td>\n",
       "      <td>0.804878</td>\n",
       "      <td>0.829268</td>\n",
       "      <td>0.756098</td>\n",
       "      <td>...</td>\n",
       "      <td>0.781727</td>\n",
       "      <td>0.029958</td>\n",
       "      <td>5</td>\n",
       "      <td>0.830957</td>\n",
       "      <td>0.810591</td>\n",
       "      <td>0.802444</td>\n",
       "      <td>0.810591</td>\n",
       "      <td>0.831301</td>\n",
       "      <td>0.817177</td>\n",
       "      <td>0.011775</td>\n",
       "    </tr>\n",
       "    <tr>\n",
       "      <th>3</th>\n",
       "      <td>0.001584</td>\n",
       "      <td>0.000477</td>\n",
       "      <td>0.005794</td>\n",
       "      <td>0.000735</td>\n",
       "      <td>10</td>\n",
       "      <td>{'n_neighbors': 10}</td>\n",
       "      <td>0.731707</td>\n",
       "      <td>0.804878</td>\n",
       "      <td>0.837398</td>\n",
       "      <td>0.780488</td>\n",
       "      <td>...</td>\n",
       "      <td>0.784993</td>\n",
       "      <td>0.035247</td>\n",
       "      <td>3</td>\n",
       "      <td>0.818737</td>\n",
       "      <td>0.814664</td>\n",
       "      <td>0.798371</td>\n",
       "      <td>0.810591</td>\n",
       "      <td>0.815041</td>\n",
       "      <td>0.811481</td>\n",
       "      <td>0.007045</td>\n",
       "    </tr>\n",
       "    <tr>\n",
       "      <th>4</th>\n",
       "      <td>0.001199</td>\n",
       "      <td>0.000397</td>\n",
       "      <td>0.005775</td>\n",
       "      <td>0.000393</td>\n",
       "      <td>20</td>\n",
       "      <td>{'n_neighbors': 20}</td>\n",
       "      <td>0.796748</td>\n",
       "      <td>0.821138</td>\n",
       "      <td>0.853659</td>\n",
       "      <td>0.772358</td>\n",
       "      <td>...</td>\n",
       "      <td>0.802879</td>\n",
       "      <td>0.031401</td>\n",
       "      <td>1</td>\n",
       "      <td>0.818737</td>\n",
       "      <td>0.804481</td>\n",
       "      <td>0.788187</td>\n",
       "      <td>0.812627</td>\n",
       "      <td>0.815041</td>\n",
       "      <td>0.807815</td>\n",
       "      <td>0.010872</td>\n",
       "    </tr>\n",
       "    <tr>\n",
       "      <th>5</th>\n",
       "      <td>0.001815</td>\n",
       "      <td>0.000392</td>\n",
       "      <td>0.005976</td>\n",
       "      <td>0.000652</td>\n",
       "      <td>30</td>\n",
       "      <td>{'n_neighbors': 30}</td>\n",
       "      <td>0.788618</td>\n",
       "      <td>0.829268</td>\n",
       "      <td>0.821138</td>\n",
       "      <td>0.772358</td>\n",
       "      <td>...</td>\n",
       "      <td>0.796375</td>\n",
       "      <td>0.024504</td>\n",
       "      <td>2</td>\n",
       "      <td>0.810591</td>\n",
       "      <td>0.798371</td>\n",
       "      <td>0.782077</td>\n",
       "      <td>0.810591</td>\n",
       "      <td>0.815041</td>\n",
       "      <td>0.803334</td>\n",
       "      <td>0.011990</td>\n",
       "    </tr>\n",
       "    <tr>\n",
       "      <th>6</th>\n",
       "      <td>0.001603</td>\n",
       "      <td>0.000495</td>\n",
       "      <td>0.006182</td>\n",
       "      <td>0.000398</td>\n",
       "      <td>40</td>\n",
       "      <td>{'n_neighbors': 40}</td>\n",
       "      <td>0.756098</td>\n",
       "      <td>0.813008</td>\n",
       "      <td>0.813008</td>\n",
       "      <td>0.772358</td>\n",
       "      <td>...</td>\n",
       "      <td>0.783353</td>\n",
       "      <td>0.024763</td>\n",
       "      <td>4</td>\n",
       "      <td>0.796334</td>\n",
       "      <td>0.782077</td>\n",
       "      <td>0.761711</td>\n",
       "      <td>0.796334</td>\n",
       "      <td>0.804878</td>\n",
       "      <td>0.788267</td>\n",
       "      <td>0.015163</td>\n",
       "    </tr>\n",
       "    <tr>\n",
       "      <th>7</th>\n",
       "      <td>0.001596</td>\n",
       "      <td>0.000488</td>\n",
       "      <td>0.006179</td>\n",
       "      <td>0.000402</td>\n",
       "      <td>50</td>\n",
       "      <td>{'n_neighbors': 50}</td>\n",
       "      <td>0.756098</td>\n",
       "      <td>0.804878</td>\n",
       "      <td>0.780488</td>\n",
       "      <td>0.756098</td>\n",
       "      <td>...</td>\n",
       "      <td>0.771971</td>\n",
       "      <td>0.018724</td>\n",
       "      <td>6</td>\n",
       "      <td>0.788187</td>\n",
       "      <td>0.771894</td>\n",
       "      <td>0.743381</td>\n",
       "      <td>0.790224</td>\n",
       "      <td>0.782520</td>\n",
       "      <td>0.775241</td>\n",
       "      <td>0.017154</td>\n",
       "    </tr>\n",
       "    <tr>\n",
       "      <th>8</th>\n",
       "      <td>0.001796</td>\n",
       "      <td>0.000398</td>\n",
       "      <td>0.006386</td>\n",
       "      <td>0.000481</td>\n",
       "      <td>60</td>\n",
       "      <td>{'n_neighbors': 60}</td>\n",
       "      <td>0.747967</td>\n",
       "      <td>0.821138</td>\n",
       "      <td>0.764228</td>\n",
       "      <td>0.723577</td>\n",
       "      <td>...</td>\n",
       "      <td>0.758923</td>\n",
       "      <td>0.033818</td>\n",
       "      <td>7</td>\n",
       "      <td>0.782077</td>\n",
       "      <td>0.755601</td>\n",
       "      <td>0.729124</td>\n",
       "      <td>0.780041</td>\n",
       "      <td>0.774390</td>\n",
       "      <td>0.764247</td>\n",
       "      <td>0.019893</td>\n",
       "    </tr>\n",
       "  </tbody>\n",
       "</table>\n",
       "<p>9 rows × 21 columns</p>\n",
       "</div>"
      ],
      "text/plain": [
       "   mean_fit_time  std_fit_time  mean_score_time  std_score_time  \\\n",
       "0       0.001999      0.000631         0.004978        0.000630   \n",
       "1       0.001596      0.000490         0.005185        0.000399   \n",
       "2       0.001396      0.000489         0.005779        0.000984   \n",
       "3       0.001584      0.000477         0.005794        0.000735   \n",
       "4       0.001199      0.000397         0.005775        0.000393   \n",
       "5       0.001815      0.000392         0.005976        0.000652   \n",
       "6       0.001603      0.000495         0.006182        0.000398   \n",
       "7       0.001596      0.000488         0.006179        0.000402   \n",
       "8       0.001796      0.000398         0.006386        0.000481   \n",
       "\n",
       "  param_n_neighbors               params  split0_test_score  \\\n",
       "0                 1   {'n_neighbors': 1}           0.699187   \n",
       "1                 2   {'n_neighbors': 2}           0.666667   \n",
       "2                 5   {'n_neighbors': 5}           0.756098   \n",
       "3                10  {'n_neighbors': 10}           0.731707   \n",
       "4                20  {'n_neighbors': 20}           0.796748   \n",
       "5                30  {'n_neighbors': 30}           0.788618   \n",
       "6                40  {'n_neighbors': 40}           0.756098   \n",
       "7                50  {'n_neighbors': 50}           0.756098   \n",
       "8                60  {'n_neighbors': 60}           0.747967   \n",
       "\n",
       "   split1_test_score  split2_test_score  split3_test_score  ...  \\\n",
       "0           0.691057           0.756098           0.707317  ...   \n",
       "1           0.642276           0.707317           0.650407  ...   \n",
       "2           0.804878           0.829268           0.756098  ...   \n",
       "3           0.804878           0.837398           0.780488  ...   \n",
       "4           0.821138           0.853659           0.772358  ...   \n",
       "5           0.829268           0.821138           0.772358  ...   \n",
       "6           0.813008           0.813008           0.772358  ...   \n",
       "7           0.804878           0.780488           0.756098  ...   \n",
       "8           0.821138           0.764228           0.723577  ...   \n",
       "\n",
       "   mean_test_score  std_test_score  rank_test_score  split0_train_score  \\\n",
       "0         0.714994        0.022853                8            1.000000   \n",
       "1         0.666120        0.022440                9            0.881874   \n",
       "2         0.781727        0.029958                5            0.830957   \n",
       "3         0.784993        0.035247                3            0.818737   \n",
       "4         0.802879        0.031401                1            0.818737   \n",
       "5         0.796375        0.024504                2            0.810591   \n",
       "6         0.783353        0.024763                4            0.796334   \n",
       "7         0.771971        0.018724                6            0.788187   \n",
       "8         0.758923        0.033818                7            0.782077   \n",
       "\n",
       "   split1_train_score  split2_train_score  split3_train_score  \\\n",
       "0            1.000000            1.000000            1.000000   \n",
       "1            0.879837            0.853360            0.863544   \n",
       "2            0.810591            0.802444            0.810591   \n",
       "3            0.814664            0.798371            0.810591   \n",
       "4            0.804481            0.788187            0.812627   \n",
       "5            0.798371            0.782077            0.810591   \n",
       "6            0.782077            0.761711            0.796334   \n",
       "7            0.771894            0.743381            0.790224   \n",
       "8            0.755601            0.729124            0.780041   \n",
       "\n",
       "   split4_train_score  mean_train_score  std_train_score  \n",
       "0            1.000000          1.000000         0.000000  \n",
       "1            0.873984          0.870520         0.010685  \n",
       "2            0.831301          0.817177         0.011775  \n",
       "3            0.815041          0.811481         0.007045  \n",
       "4            0.815041          0.807815         0.010872  \n",
       "5            0.815041          0.803334         0.011990  \n",
       "6            0.804878          0.788267         0.015163  \n",
       "7            0.782520          0.775241         0.017154  \n",
       "8            0.774390          0.764247         0.019893  \n",
       "\n",
       "[9 rows x 21 columns]"
      ]
     },
     "execution_count": 54,
     "metadata": {},
     "output_type": "execute_result"
    }
   ],
   "source": [
    "Gridsearch.fit(X_train,Y_train)\n",
    "clf_results=pd.DataFrame(Gridsearch.cv_results_)\n",
    "clf_results"
   ]
  },
  {
   "cell_type": "code",
   "execution_count": 55,
   "metadata": {},
   "outputs": [
    {
     "name": "stdout",
     "output_type": "stream",
     "text": [
      "best test score= 0.8028788484606159\n",
      "best number of neighbours= {'n_neighbors': 20}\n"
     ]
    }
   ],
   "source": [
    "best_score=Gridsearch.best_score_\n",
    "best_n=Gridsearch.best_params_\n",
    "print('best test score=',best_score)\n",
    "print('best number of neighbours=',best_n)"
   ]
  },
  {
   "cell_type": "code",
   "execution_count": 56,
   "metadata": {},
   "outputs": [
    {
     "name": "stderr",
     "output_type": "stream",
     "text": [
      "[Parallel(n_jobs=1)]: Using backend SequentialBackend with 1 concurrent workers.\n"
     ]
    },
    {
     "name": "stdout",
     "output_type": "stream",
     "text": [
      "Fitting 5 folds for each of 12 candidates, totalling 60 fits\n"
     ]
    },
    {
     "name": "stderr",
     "output_type": "stream",
     "text": [
      "[Parallel(n_jobs=1)]: Done  60 out of  60 | elapsed:    1.6s finished\n"
     ]
    }
   ],
   "source": [
    "N={\"n_neighbors\":[14,15,16,17,18,19,20,21,22,23,24,25]}\n",
    "clf=neighbors.KNeighborsClassifier()\n",
    "Gridsearch=GridSearchCV(estimator=clf,param_grid=N,scoring='accuracy',cv=kf,verbose=1,return_train_score=True)\n",
    "Gridsearch.fit(X_train,Y_train)\n",
    "clf_results=pd.DataFrame(Gridsearch.cv_results_)\n",
    "\n",
    "best_score=Gridsearch.best_score_\n",
    "best_n=Gridsearch.best_params_"
   ]
  },
  {
   "cell_type": "code",
   "execution_count": 57,
   "metadata": {},
   "outputs": [
    {
     "name": "stdout",
     "output_type": "stream",
     "text": [
      "best accuracy score= 0.8045048647207784\n",
      "best number of neighbours= {'n_neighbors': 22}\n"
     ]
    }
   ],
   "source": [
    "print('best accuracy score=',best_score)\n",
    "print('best number of neighbours=',best_n)"
   ]
  },
  {
   "cell_type": "code",
   "execution_count": 58,
   "metadata": {},
   "outputs": [],
   "source": [
    "Score_Table.loc[2]=['KNN for neighbors =22',best_score*100]"
   ]
  },
  {
   "cell_type": "markdown",
   "metadata": {},
   "source": [
    "# Decision Tree"
   ]
  },
  {
   "cell_type": "markdown",
   "metadata": {},
   "source": [
    "lets again prepare the data that to be applied for the decision tree algorithm. Here i have applied label encoder to encode the catagorical variables"
   ]
  },
  {
   "cell_type": "code",
   "execution_count": 59,
   "metadata": {},
   "outputs": [
    {
     "data": {
      "text/html": [
       "<div>\n",
       "<style scoped>\n",
       "    .dataframe tbody tr th:only-of-type {\n",
       "        vertical-align: middle;\n",
       "    }\n",
       "\n",
       "    .dataframe tbody tr th {\n",
       "        vertical-align: top;\n",
       "    }\n",
       "\n",
       "    .dataframe thead th {\n",
       "        text-align: right;\n",
       "    }\n",
       "</style>\n",
       "<table border=\"1\" class=\"dataframe\">\n",
       "  <thead>\n",
       "    <tr style=\"text-align: right;\">\n",
       "      <th></th>\n",
       "      <th>Sex</th>\n",
       "      <th>Marital_Status</th>\n",
       "      <th>Dependents</th>\n",
       "      <th>Qual_var</th>\n",
       "      <th>SE</th>\n",
       "      <th>App_Income_1</th>\n",
       "      <th>App_Income_2</th>\n",
       "      <th>CPL_Amount</th>\n",
       "      <th>CPL_Term</th>\n",
       "      <th>Credit_His</th>\n",
       "      <th>Prop_Area</th>\n",
       "      <th>CPL_Status</th>\n",
       "    </tr>\n",
       "  </thead>\n",
       "  <tbody>\n",
       "    <tr>\n",
       "      <th>0</th>\n",
       "      <td>M</td>\n",
       "      <td>N</td>\n",
       "      <td>0</td>\n",
       "      <td>Grad</td>\n",
       "      <td>N</td>\n",
       "      <td>7018.8</td>\n",
       "      <td>0.0</td>\n",
       "      <td>NaN</td>\n",
       "      <td>360.0</td>\n",
       "      <td>1.0</td>\n",
       "      <td>Urban</td>\n",
       "      <td>Y</td>\n",
       "    </tr>\n",
       "    <tr>\n",
       "      <th>1</th>\n",
       "      <td>M</td>\n",
       "      <td>Y</td>\n",
       "      <td>1</td>\n",
       "      <td>Grad</td>\n",
       "      <td>N</td>\n",
       "      <td>5499.6</td>\n",
       "      <td>1809.6</td>\n",
       "      <td>153.6</td>\n",
       "      <td>360.0</td>\n",
       "      <td>1.0</td>\n",
       "      <td>Rural</td>\n",
       "      <td>N</td>\n",
       "    </tr>\n",
       "    <tr>\n",
       "      <th>2</th>\n",
       "      <td>M</td>\n",
       "      <td>Y</td>\n",
       "      <td>0</td>\n",
       "      <td>Grad</td>\n",
       "      <td>Y</td>\n",
       "      <td>3600.0</td>\n",
       "      <td>0.0</td>\n",
       "      <td>79.2</td>\n",
       "      <td>360.0</td>\n",
       "      <td>1.0</td>\n",
       "      <td>Urban</td>\n",
       "      <td>Y</td>\n",
       "    </tr>\n",
       "    <tr>\n",
       "      <th>3</th>\n",
       "      <td>M</td>\n",
       "      <td>Y</td>\n",
       "      <td>0</td>\n",
       "      <td>Non Grad</td>\n",
       "      <td>N</td>\n",
       "      <td>3099.6</td>\n",
       "      <td>2829.6</td>\n",
       "      <td>144.0</td>\n",
       "      <td>360.0</td>\n",
       "      <td>1.0</td>\n",
       "      <td>Urban</td>\n",
       "      <td>Y</td>\n",
       "    </tr>\n",
       "    <tr>\n",
       "      <th>4</th>\n",
       "      <td>M</td>\n",
       "      <td>N</td>\n",
       "      <td>0</td>\n",
       "      <td>Grad</td>\n",
       "      <td>N</td>\n",
       "      <td>7200.0</td>\n",
       "      <td>0.0</td>\n",
       "      <td>169.2</td>\n",
       "      <td>360.0</td>\n",
       "      <td>1.0</td>\n",
       "      <td>Urban</td>\n",
       "      <td>Y</td>\n",
       "    </tr>\n",
       "  </tbody>\n",
       "</table>\n",
       "</div>"
      ],
      "text/plain": [
       "  Sex Marital_Status Dependents  Qual_var SE  App_Income_1  App_Income_2  \\\n",
       "0   M              N          0      Grad  N        7018.8           0.0   \n",
       "1   M              Y          1      Grad  N        5499.6        1809.6   \n",
       "2   M              Y          0      Grad  Y        3600.0           0.0   \n",
       "3   M              Y          0  Non Grad  N        3099.6        2829.6   \n",
       "4   M              N          0      Grad  N        7200.0           0.0   \n",
       "\n",
       "   CPL_Amount  CPL_Term  Credit_His Prop_Area CPL_Status  \n",
       "0         NaN     360.0         1.0     Urban          Y  \n",
       "1       153.6     360.0         1.0     Rural          N  \n",
       "2        79.2     360.0         1.0     Urban          Y  \n",
       "3       144.0     360.0         1.0     Urban          Y  \n",
       "4       169.2     360.0         1.0     Urban          Y  "
      ]
     },
     "execution_count": 59,
     "metadata": {},
     "output_type": "execute_result"
    }
   ],
   "source": [
    "loan=pd.read_excel(\"Project - 4 - Train Data.xlsx\")\n",
    "loan=loan.drop(['Loanapp_ID','first_name','last_name','email','address','INT_ID','Prev_ID','AGT_ID'],axis=1)\n",
    "loan.head()"
   ]
  },
  {
   "cell_type": "code",
   "execution_count": 60,
   "metadata": {},
   "outputs": [
    {
     "data": {
      "text/plain": [
       "Sex               13\n",
       "Marital_Status     3\n",
       "Dependents        15\n",
       "Qual_var           0\n",
       "SE                32\n",
       "App_Income_1       0\n",
       "App_Income_2       0\n",
       "CPL_Amount         0\n",
       "CPL_Term           0\n",
       "Credit_His         0\n",
       "Prop_Area          0\n",
       "CPL_Status         0\n",
       "dtype: int64"
      ]
     },
     "execution_count": 60,
     "metadata": {},
     "output_type": "execute_result"
    }
   ],
   "source": [
    "# lets fill the missing values for continuos values\n",
    "loan.CPL_Amount.fillna(loan['CPL_Amount'].mean(),inplace=True)\n",
    "loan.CPL_Term.fillna(loan['CPL_Term'].mean(),inplace=True)\n",
    "loan.Credit_His.fillna(loan['Credit_His'].mean(),inplace=True)\n",
    "loan.isnull().sum()"
   ]
  },
  {
   "cell_type": "code",
   "execution_count": 61,
   "metadata": {},
   "outputs": [],
   "source": [
    "# temporarily map the catagorical values to numerical values\n",
    "loan['Sex']=loan.Sex.map({'M':1,'F':0})\n",
    "loan['Marital_Status']=loan.Marital_Status.map({'Y':1,'N':0})\n",
    "loan['Dependents']=loan.Dependents.map({0:0,1:1,2:2,'3+':3})\n",
    "loan['SE']=loan.SE.map({'Y':1,'N':0})\n",
    "loan['Qual_var']=loan.Qual_var.map({'Grad':1,'Non Grad':0})\n",
    "loan['Prop_Area']=loan.Prop_Area.map({'Urban':1,'Semi U':2,'Rural':3})\n",
    "loan['CPL_Status']=loan.CPL_Status.map({'Y':1,'N':0})\n"
   ]
  },
  {
   "cell_type": "code",
   "execution_count": 62,
   "metadata": {},
   "outputs": [
    {
     "name": "stdout",
     "output_type": "stream",
     "text": [
      "   Sex  Marital_Status  Dependents  Qual_var   SE  App_Income_1  App_Income_2  \\\n",
      "0  1.0             1.0         0.0         1  0.0        3000.0           0.0   \n",
      "\n",
      "   CPL_Amount  CPL_Term  Credit_His  Prop_Area  CPL_Status  \n",
      "0       144.0     360.0         1.0          2           1  \n"
     ]
    }
   ],
   "source": [
    "# fill the missing values for catagorical values\n",
    "mode=loan.mode(axis=0)\n",
    "print(mode)\n",
    "loan['Sex'].fillna(mode.iloc[0,0],inplace=True)\n",
    "loan['Marital_Status'].fillna(mode.iloc[0,1],inplace=True)\n",
    "loan['Dependents'].fillna(mode.iloc[0,2],inplace=True)\n",
    "loan['SE'].fillna(mode.iloc[0,4],inplace=True)"
   ]
  },
  {
   "cell_type": "code",
   "execution_count": 63,
   "metadata": {},
   "outputs": [],
   "source": [
    "# again map the catagorical values back to previous values\n",
    "loan['Sex']=loan.Sex.map({1:'M',0:'F'})\n",
    "loan['Marital_Status']=loan.Marital_Status.map({1:'Y',0:'N'})\n",
    "loan['Dependents']=loan.Dependents.map({0:'0',1:'1',2:'2',3:'3+'})\n",
    "loan['SE']=loan.SE.map({1:'Y',0:'N'})\n",
    "loan['Qual_var']=loan.Qual_var.map({1:'Grad',0:'Non Grad'})\n",
    "loan['Prop_Area']=loan.Prop_Area.map({1:'Urban',2:'Semi U',3:'Rural'})\n",
    "loan['CPL_Status']=loan.CPL_Status.map({1:'Y',0:'N'})"
   ]
  },
  {
   "cell_type": "code",
   "execution_count": 64,
   "metadata": {},
   "outputs": [
    {
     "data": {
      "text/html": [
       "<div>\n",
       "<style scoped>\n",
       "    .dataframe tbody tr th:only-of-type {\n",
       "        vertical-align: middle;\n",
       "    }\n",
       "\n",
       "    .dataframe tbody tr th {\n",
       "        vertical-align: top;\n",
       "    }\n",
       "\n",
       "    .dataframe thead th {\n",
       "        text-align: right;\n",
       "    }\n",
       "</style>\n",
       "<table border=\"1\" class=\"dataframe\">\n",
       "  <thead>\n",
       "    <tr style=\"text-align: right;\">\n",
       "      <th></th>\n",
       "      <th>Sex</th>\n",
       "      <th>Marital_Status</th>\n",
       "      <th>Dependents</th>\n",
       "      <th>Qual_var</th>\n",
       "      <th>SE</th>\n",
       "      <th>Prop_Area</th>\n",
       "      <th>CPL_Status</th>\n",
       "    </tr>\n",
       "  </thead>\n",
       "  <tbody>\n",
       "    <tr>\n",
       "      <th>0</th>\n",
       "      <td>1</td>\n",
       "      <td>0</td>\n",
       "      <td>0</td>\n",
       "      <td>0</td>\n",
       "      <td>0</td>\n",
       "      <td>2</td>\n",
       "      <td>1</td>\n",
       "    </tr>\n",
       "    <tr>\n",
       "      <th>1</th>\n",
       "      <td>1</td>\n",
       "      <td>1</td>\n",
       "      <td>1</td>\n",
       "      <td>0</td>\n",
       "      <td>0</td>\n",
       "      <td>0</td>\n",
       "      <td>0</td>\n",
       "    </tr>\n",
       "    <tr>\n",
       "      <th>2</th>\n",
       "      <td>1</td>\n",
       "      <td>1</td>\n",
       "      <td>0</td>\n",
       "      <td>0</td>\n",
       "      <td>1</td>\n",
       "      <td>2</td>\n",
       "      <td>1</td>\n",
       "    </tr>\n",
       "    <tr>\n",
       "      <th>3</th>\n",
       "      <td>1</td>\n",
       "      <td>1</td>\n",
       "      <td>0</td>\n",
       "      <td>1</td>\n",
       "      <td>0</td>\n",
       "      <td>2</td>\n",
       "      <td>1</td>\n",
       "    </tr>\n",
       "    <tr>\n",
       "      <th>4</th>\n",
       "      <td>1</td>\n",
       "      <td>0</td>\n",
       "      <td>0</td>\n",
       "      <td>0</td>\n",
       "      <td>0</td>\n",
       "      <td>2</td>\n",
       "      <td>1</td>\n",
       "    </tr>\n",
       "  </tbody>\n",
       "</table>\n",
       "</div>"
      ],
      "text/plain": [
       "   Sex  Marital_Status  Dependents  Qual_var  SE  Prop_Area  CPL_Status\n",
       "0    1               0           0         0   0          2           1\n",
       "1    1               1           1         0   0          0           0\n",
       "2    1               1           0         0   1          2           1\n",
       "3    1               1           0         1   0          2           1\n",
       "4    1               0           0         0   0          2           1"
      ]
     },
     "execution_count": 64,
     "metadata": {},
     "output_type": "execute_result"
    }
   ],
   "source": [
    "# now lets encode the catagorical values into a separate dataframe\n",
    "from sklearn import preprocessing\n",
    "df_categorical = loan.select_dtypes(include=['object'])\n",
    "le = preprocessing.LabelEncoder()\n",
    "df_categorical = df_categorical.apply(le.fit_transform)\n",
    "df_categorical.head()\n"
   ]
  },
  {
   "cell_type": "code",
   "execution_count": 65,
   "metadata": {},
   "outputs": [
    {
     "data": {
      "text/html": [
       "<div>\n",
       "<style scoped>\n",
       "    .dataframe tbody tr th:only-of-type {\n",
       "        vertical-align: middle;\n",
       "    }\n",
       "\n",
       "    .dataframe tbody tr th {\n",
       "        vertical-align: top;\n",
       "    }\n",
       "\n",
       "    .dataframe thead th {\n",
       "        text-align: right;\n",
       "    }\n",
       "</style>\n",
       "<table border=\"1\" class=\"dataframe\">\n",
       "  <thead>\n",
       "    <tr style=\"text-align: right;\">\n",
       "      <th></th>\n",
       "      <th>App_Income_1</th>\n",
       "      <th>App_Income_2</th>\n",
       "      <th>CPL_Amount</th>\n",
       "      <th>CPL_Term</th>\n",
       "      <th>Credit_His</th>\n",
       "      <th>Sex</th>\n",
       "      <th>Marital_Status</th>\n",
       "      <th>Dependents</th>\n",
       "      <th>Qual_var</th>\n",
       "      <th>SE</th>\n",
       "      <th>Prop_Area</th>\n",
       "      <th>CPL_Status</th>\n",
       "    </tr>\n",
       "  </thead>\n",
       "  <tbody>\n",
       "    <tr>\n",
       "      <th>0</th>\n",
       "      <td>7018.8</td>\n",
       "      <td>0.0</td>\n",
       "      <td>175.805882</td>\n",
       "      <td>360.0</td>\n",
       "      <td>1.0</td>\n",
       "      <td>1</td>\n",
       "      <td>0</td>\n",
       "      <td>0</td>\n",
       "      <td>0</td>\n",
       "      <td>0</td>\n",
       "      <td>2</td>\n",
       "      <td>1</td>\n",
       "    </tr>\n",
       "    <tr>\n",
       "      <th>1</th>\n",
       "      <td>5499.6</td>\n",
       "      <td>1809.6</td>\n",
       "      <td>153.600000</td>\n",
       "      <td>360.0</td>\n",
       "      <td>1.0</td>\n",
       "      <td>1</td>\n",
       "      <td>1</td>\n",
       "      <td>1</td>\n",
       "      <td>0</td>\n",
       "      <td>0</td>\n",
       "      <td>0</td>\n",
       "      <td>0</td>\n",
       "    </tr>\n",
       "    <tr>\n",
       "      <th>2</th>\n",
       "      <td>3600.0</td>\n",
       "      <td>0.0</td>\n",
       "      <td>79.200000</td>\n",
       "      <td>360.0</td>\n",
       "      <td>1.0</td>\n",
       "      <td>1</td>\n",
       "      <td>1</td>\n",
       "      <td>0</td>\n",
       "      <td>0</td>\n",
       "      <td>1</td>\n",
       "      <td>2</td>\n",
       "      <td>1</td>\n",
       "    </tr>\n",
       "    <tr>\n",
       "      <th>3</th>\n",
       "      <td>3099.6</td>\n",
       "      <td>2829.6</td>\n",
       "      <td>144.000000</td>\n",
       "      <td>360.0</td>\n",
       "      <td>1.0</td>\n",
       "      <td>1</td>\n",
       "      <td>1</td>\n",
       "      <td>0</td>\n",
       "      <td>1</td>\n",
       "      <td>0</td>\n",
       "      <td>2</td>\n",
       "      <td>1</td>\n",
       "    </tr>\n",
       "    <tr>\n",
       "      <th>4</th>\n",
       "      <td>7200.0</td>\n",
       "      <td>0.0</td>\n",
       "      <td>169.200000</td>\n",
       "      <td>360.0</td>\n",
       "      <td>1.0</td>\n",
       "      <td>1</td>\n",
       "      <td>0</td>\n",
       "      <td>0</td>\n",
       "      <td>0</td>\n",
       "      <td>0</td>\n",
       "      <td>2</td>\n",
       "      <td>1</td>\n",
       "    </tr>\n",
       "  </tbody>\n",
       "</table>\n",
       "</div>"
      ],
      "text/plain": [
       "   App_Income_1  App_Income_2  CPL_Amount  CPL_Term  Credit_His  Sex  \\\n",
       "0        7018.8           0.0  175.805882     360.0         1.0    1   \n",
       "1        5499.6        1809.6  153.600000     360.0         1.0    1   \n",
       "2        3600.0           0.0   79.200000     360.0         1.0    1   \n",
       "3        3099.6        2829.6  144.000000     360.0         1.0    1   \n",
       "4        7200.0           0.0  169.200000     360.0         1.0    1   \n",
       "\n",
       "   Marital_Status  Dependents  Qual_var  SE  Prop_Area  CPL_Status  \n",
       "0               0           0         0   0          2           1  \n",
       "1               1           1         0   0          0           0  \n",
       "2               1           0         0   1          2           1  \n",
       "3               1           0         1   0          2           1  \n",
       "4               0           0         0   0          2           1  "
      ]
     },
     "execution_count": 65,
     "metadata": {},
     "output_type": "execute_result"
    }
   ],
   "source": [
    "# concatinate the two dataframe into a single data frame\n",
    "loan = loan.drop(df_categorical.columns, axis=1)\n",
    "loan = pd.concat([loan, df_categorical], axis=1)\n",
    "loan.head()"
   ]
  },
  {
   "cell_type": "markdown",
   "metadata": {},
   "source": [
    "Model building for DT"
   ]
  },
  {
   "cell_type": "code",
   "execution_count": 66,
   "metadata": {},
   "outputs": [],
   "source": [
    "# devide the data set in X and Y\n",
    "X_train=loan.drop('CPL_Status',axis=1)\n",
    "Y_train=loan['CPL_Status']"
   ]
  },
  {
   "cell_type": "code",
   "execution_count": 67,
   "metadata": {},
   "outputs": [
    {
     "data": {
      "text/plain": [
       "GridSearchCV(cv=KFold(n_splits=5, random_state=10, shuffle=True),\n",
       "             error_score=nan,\n",
       "             estimator=DecisionTreeClassifier(ccp_alpha=0.0, class_weight=None,\n",
       "                                              criterion='gini', max_depth=None,\n",
       "                                              max_features=None,\n",
       "                                              max_leaf_nodes=None,\n",
       "                                              min_impurity_decrease=0.0,\n",
       "                                              min_impurity_split=None,\n",
       "                                              min_samples_leaf=1,\n",
       "                                              min_samples_split=2,\n",
       "                                              min_weight_fraction_leaf=0.0,\n",
       "                                              presort='deprecated',\n",
       "                                              random_state=100,\n",
       "                                              splitter='best'),\n",
       "             iid='deprecated', n_jobs=None,\n",
       "             param_grid={'max_depth': range(1, 10)}, pre_dispatch='2*n_jobs',\n",
       "             refit=True, return_train_score=False, scoring='accuracy',\n",
       "             verbose=0)"
      ]
     },
     "execution_count": 67,
     "metadata": {},
     "output_type": "execute_result"
    }
   ],
   "source": [
    "from sklearn.tree import DecisionTreeClassifier\n",
    "# tuning maximum depth by grid search method\n",
    "parameters = {'max_depth': range(1, 10)}\n",
    "\n",
    "DT = DecisionTreeClassifier(criterion = \"gini\", \n",
    "                               random_state = 100)\n",
    "\n",
    "DT_clf = GridSearchCV(DT, parameters, \n",
    "                    cv=kf, \n",
    "                   scoring=\"accuracy\")\n",
    "DT_clf.fit(X_train, Y_train)"
   ]
  },
  {
   "cell_type": "code",
   "execution_count": 68,
   "metadata": {},
   "outputs": [
    {
     "data": {
      "text/html": [
       "<div>\n",
       "<style scoped>\n",
       "    .dataframe tbody tr th:only-of-type {\n",
       "        vertical-align: middle;\n",
       "    }\n",
       "\n",
       "    .dataframe tbody tr th {\n",
       "        vertical-align: top;\n",
       "    }\n",
       "\n",
       "    .dataframe thead th {\n",
       "        text-align: right;\n",
       "    }\n",
       "</style>\n",
       "<table border=\"1\" class=\"dataframe\">\n",
       "  <thead>\n",
       "    <tr style=\"text-align: right;\">\n",
       "      <th></th>\n",
       "      <th>mean_fit_time</th>\n",
       "      <th>std_fit_time</th>\n",
       "      <th>mean_score_time</th>\n",
       "      <th>std_score_time</th>\n",
       "      <th>param_max_depth</th>\n",
       "      <th>params</th>\n",
       "      <th>split0_test_score</th>\n",
       "      <th>split1_test_score</th>\n",
       "      <th>split2_test_score</th>\n",
       "      <th>split3_test_score</th>\n",
       "      <th>split4_test_score</th>\n",
       "      <th>mean_test_score</th>\n",
       "      <th>std_test_score</th>\n",
       "      <th>rank_test_score</th>\n",
       "    </tr>\n",
       "  </thead>\n",
       "  <tbody>\n",
       "    <tr>\n",
       "      <th>0</th>\n",
       "      <td>0.002195</td>\n",
       "      <td>0.000416</td>\n",
       "      <td>0.001196</td>\n",
       "      <td>0.000380</td>\n",
       "      <td>1</td>\n",
       "      <td>{'max_depth': 1}</td>\n",
       "      <td>0.796748</td>\n",
       "      <td>0.829268</td>\n",
       "      <td>0.869919</td>\n",
       "      <td>0.780488</td>\n",
       "      <td>0.770492</td>\n",
       "      <td>0.809383</td>\n",
       "      <td>0.036241</td>\n",
       "      <td>1</td>\n",
       "    </tr>\n",
       "    <tr>\n",
       "      <th>1</th>\n",
       "      <td>0.002194</td>\n",
       "      <td>0.000415</td>\n",
       "      <td>0.000798</td>\n",
       "      <td>0.000399</td>\n",
       "      <td>2</td>\n",
       "      <td>{'max_depth': 2}</td>\n",
       "      <td>0.796748</td>\n",
       "      <td>0.821138</td>\n",
       "      <td>0.837398</td>\n",
       "      <td>0.780488</td>\n",
       "      <td>0.762295</td>\n",
       "      <td>0.799613</td>\n",
       "      <td>0.027047</td>\n",
       "      <td>3</td>\n",
       "    </tr>\n",
       "    <tr>\n",
       "      <th>2</th>\n",
       "      <td>0.002194</td>\n",
       "      <td>0.000384</td>\n",
       "      <td>0.001001</td>\n",
       "      <td>0.000005</td>\n",
       "      <td>3</td>\n",
       "      <td>{'max_depth': 3}</td>\n",
       "      <td>0.796748</td>\n",
       "      <td>0.821138</td>\n",
       "      <td>0.845528</td>\n",
       "      <td>0.764228</td>\n",
       "      <td>0.770492</td>\n",
       "      <td>0.799627</td>\n",
       "      <td>0.030594</td>\n",
       "      <td>2</td>\n",
       "    </tr>\n",
       "    <tr>\n",
       "      <th>3</th>\n",
       "      <td>0.002398</td>\n",
       "      <td>0.000508</td>\n",
       "      <td>0.000793</td>\n",
       "      <td>0.000396</td>\n",
       "      <td>4</td>\n",
       "      <td>{'max_depth': 4}</td>\n",
       "      <td>0.796748</td>\n",
       "      <td>0.772358</td>\n",
       "      <td>0.829268</td>\n",
       "      <td>0.772358</td>\n",
       "      <td>0.754098</td>\n",
       "      <td>0.784966</td>\n",
       "      <td>0.025970</td>\n",
       "      <td>5</td>\n",
       "    </tr>\n",
       "    <tr>\n",
       "      <th>4</th>\n",
       "      <td>0.002800</td>\n",
       "      <td>0.000739</td>\n",
       "      <td>0.000990</td>\n",
       "      <td>0.000014</td>\n",
       "      <td>5</td>\n",
       "      <td>{'max_depth': 5}</td>\n",
       "      <td>0.780488</td>\n",
       "      <td>0.796748</td>\n",
       "      <td>0.796748</td>\n",
       "      <td>0.780488</td>\n",
       "      <td>0.770492</td>\n",
       "      <td>0.784993</td>\n",
       "      <td>0.010269</td>\n",
       "      <td>4</td>\n",
       "    </tr>\n",
       "  </tbody>\n",
       "</table>\n",
       "</div>"
      ],
      "text/plain": [
       "   mean_fit_time  std_fit_time  mean_score_time  std_score_time  \\\n",
       "0       0.002195      0.000416         0.001196        0.000380   \n",
       "1       0.002194      0.000415         0.000798        0.000399   \n",
       "2       0.002194      0.000384         0.001001        0.000005   \n",
       "3       0.002398      0.000508         0.000793        0.000396   \n",
       "4       0.002800      0.000739         0.000990        0.000014   \n",
       "\n",
       "  param_max_depth            params  split0_test_score  split1_test_score  \\\n",
       "0               1  {'max_depth': 1}           0.796748           0.829268   \n",
       "1               2  {'max_depth': 2}           0.796748           0.821138   \n",
       "2               3  {'max_depth': 3}           0.796748           0.821138   \n",
       "3               4  {'max_depth': 4}           0.796748           0.772358   \n",
       "4               5  {'max_depth': 5}           0.780488           0.796748   \n",
       "\n",
       "   split2_test_score  split3_test_score  split4_test_score  mean_test_score  \\\n",
       "0           0.869919           0.780488           0.770492         0.809383   \n",
       "1           0.837398           0.780488           0.762295         0.799613   \n",
       "2           0.845528           0.764228           0.770492         0.799627   \n",
       "3           0.829268           0.772358           0.754098         0.784966   \n",
       "4           0.796748           0.780488           0.770492         0.784993   \n",
       "\n",
       "   std_test_score  rank_test_score  \n",
       "0        0.036241                1  \n",
       "1        0.027047                3  \n",
       "2        0.030594                2  \n",
       "3        0.025970                5  \n",
       "4        0.010269                4  "
      ]
     },
     "execution_count": 68,
     "metadata": {},
     "output_type": "execute_result"
    }
   ],
   "source": [
    "results=pd.DataFrame(DT_clf.cv_results_)\n",
    "results.head()"
   ]
  },
  {
   "cell_type": "code",
   "execution_count": 69,
   "metadata": {},
   "outputs": [
    {
     "name": "stdout",
     "output_type": "stream",
     "text": [
      "best maximum depth= {'max_depth': 1}\n",
      "best accuracy= 0.8093829135012662\n"
     ]
    }
   ],
   "source": [
    "# print best values and best scores\n",
    "print('best maximum depth=',DT_clf.best_params_)\n",
    "print('best accuracy=',DT_clf.best_score_)"
   ]
  },
  {
   "cell_type": "code",
   "execution_count": 70,
   "metadata": {},
   "outputs": [
    {
     "name": "stdout",
     "output_type": "stream",
     "text": [
      "best min_samples_leaf= {'min_samples_leaf': 33}\n",
      "best accuracy= 0.8093829135012662\n"
     ]
    }
   ],
   "source": [
    "# tuning minimum samples leaf\n",
    "parameters = {'min_samples_leaf': range(1, 100, 2)}\n",
    "\n",
    "DT = DecisionTreeClassifier(criterion = \"gini\", \n",
    "                               random_state = 100)\n",
    "\n",
    "DT_clf1 = GridSearchCV(DT, parameters, \n",
    "                    cv=kf, \n",
    "                   scoring=\"accuracy\")\n",
    "DT_clf1.fit(X_train, Y_train)\n",
    "print('best min_samples_leaf=',DT_clf1.best_params_)\n",
    "print('best accuracy=',DT_clf1.best_score_)"
   ]
  },
  {
   "cell_type": "code",
   "execution_count": 71,
   "metadata": {},
   "outputs": [
    {
     "name": "stdout",
     "output_type": "stream",
     "text": [
      "best min_samples_split= {'min_samples_split': 70}\n",
      "best accuracy= 0.7833933093429295\n"
     ]
    }
   ],
   "source": [
    "# tuning minimum samples split\n",
    "parameters = {'min_samples_split': range(2, 100, 2)}\n",
    "DT = DecisionTreeClassifier(criterion = \"gini\", \n",
    "                               random_state = 100)\n",
    "\n",
    "DT_clf2 = GridSearchCV(DT, parameters, \n",
    "                    cv=kf, \n",
    "                   scoring=\"accuracy\")\n",
    "DT_clf2.fit(X_train, Y_train)\n",
    "print('best min_samples_split=',DT_clf2.best_params_)\n",
    "print('best accuracy=',DT_clf2.best_score_)"
   ]
  },
  {
   "cell_type": "code",
   "execution_count": 72,
   "metadata": {},
   "outputs": [
    {
     "name": "stdout",
     "output_type": "stream",
     "text": [
      "Fitting 5 folds for each of 1800 candidates, totalling 9000 fits\n"
     ]
    },
    {
     "name": "stderr",
     "output_type": "stream",
     "text": [
      "[Parallel(n_jobs=1)]: Using backend SequentialBackend with 1 concurrent workers.\n",
      "[Parallel(n_jobs=1)]: Done 9000 out of 9000 | elapsed:   27.9s finished\n"
     ]
    },
    {
     "data": {
      "text/plain": [
       "GridSearchCV(cv=KFold(n_splits=5, random_state=10, shuffle=True),\n",
       "             error_score=nan,\n",
       "             estimator=DecisionTreeClassifier(ccp_alpha=0.0, class_weight=None,\n",
       "                                              criterion='gini', max_depth=None,\n",
       "                                              max_features=None,\n",
       "                                              max_leaf_nodes=None,\n",
       "                                              min_impurity_decrease=0.0,\n",
       "                                              min_impurity_split=None,\n",
       "                                              min_samples_leaf=1,\n",
       "                                              min_samples_split=2,\n",
       "                                              min_weight_fraction_leaf=0.0,\n",
       "                                              presort='deprecated',\n",
       "                                              random_state=None,\n",
       "                                              splitter='best'),\n",
       "             iid='deprecated', n_jobs=None,\n",
       "             param_grid={'criterion': ['entropy', 'gini'],\n",
       "                         'max_depth': range(1, 10),\n",
       "                         'min_samples_leaf': range(1, 100, 10),\n",
       "                         'min_samples_split': range(2, 102, 10)},\n",
       "             pre_dispatch='2*n_jobs', refit=True, return_train_score=False,\n",
       "             scoring='accuracy', verbose=1)"
      ]
     },
     "execution_count": 72,
     "metadata": {},
     "output_type": "execute_result"
    }
   ],
   "source": [
    "# now lets tune all the parameters \n",
    "param = {\n",
    "    'max_depth': range(1, 10),\n",
    "    'min_samples_leaf': range(1, 100, 10),\n",
    "    'min_samples_split': range(2, 102, 10),\n",
    "    'criterion': [\"entropy\", \"gini\"]\n",
    "}\n",
    "\n",
    "DT = DecisionTreeClassifier()\n",
    "\n",
    "DT_clf3 = GridSearchCV(estimator=DT, param_grid=param, \n",
    "                    cv=kf, \n",
    "                   scoring=\"accuracy\",verbose = 1)\n",
    "DT_clf3.fit(X_train, Y_train)\n"
   ]
  },
  {
   "cell_type": "code",
   "execution_count": 73,
   "metadata": {},
   "outputs": [
    {
     "name": "stdout",
     "output_type": "stream",
     "text": [
      "best parameters= {'criterion': 'entropy', 'max_depth': 1, 'min_samples_leaf': 1, 'min_samples_split': 2}\n",
      "best accuracy= 0.8093829135012662\n"
     ]
    }
   ],
   "source": [
    "# print the best scores and best values\n",
    "print('best parameters=',DT_clf3.best_params_)\n",
    "print('best accuracy=',DT_clf3.best_score_)"
   ]
  },
  {
   "cell_type": "code",
   "execution_count": 74,
   "metadata": {},
   "outputs": [],
   "source": [
    "# store the accuracy into the data frame\n",
    "Score_Table.loc[3]=['DT (max depth=1, min_samples_leaf=1, min_samples_split=2)',(DT_clf3.best_score_)*100]"
   ]
  },
  {
   "cell_type": "code",
   "execution_count": 75,
   "metadata": {},
   "outputs": [
    {
     "data": {
      "text/html": [
       "<div>\n",
       "<style scoped>\n",
       "    .dataframe tbody tr th:only-of-type {\n",
       "        vertical-align: middle;\n",
       "    }\n",
       "\n",
       "    .dataframe tbody tr th {\n",
       "        vertical-align: top;\n",
       "    }\n",
       "\n",
       "    .dataframe thead th {\n",
       "        text-align: right;\n",
       "    }\n",
       "</style>\n",
       "<table border=\"1\" class=\"dataframe\">\n",
       "  <thead>\n",
       "    <tr style=\"text-align: right;\">\n",
       "      <th></th>\n",
       "      <th>Model name</th>\n",
       "      <th>Accuracy(%)</th>\n",
       "    </tr>\n",
       "  </thead>\n",
       "  <tbody>\n",
       "    <tr>\n",
       "      <th>0</th>\n",
       "      <td>Logistic Reg</td>\n",
       "      <td>81.100893</td>\n",
       "    </tr>\n",
       "    <tr>\n",
       "      <th>1</th>\n",
       "      <td>SVC for C=0.5</td>\n",
       "      <td>80.775690</td>\n",
       "    </tr>\n",
       "    <tr>\n",
       "      <th>2</th>\n",
       "      <td>KNN for neighbors =22</td>\n",
       "      <td>80.450486</td>\n",
       "    </tr>\n",
       "    <tr>\n",
       "      <th>3</th>\n",
       "      <td>DT (max depth=1, min_samples_leaf=1, min_sampl...</td>\n",
       "      <td>80.938291</td>\n",
       "    </tr>\n",
       "  </tbody>\n",
       "</table>\n",
       "</div>"
      ],
      "text/plain": [
       "                                          Model name  Accuracy(%)\n",
       "0                                       Logistic Reg    81.100893\n",
       "1                                      SVC for C=0.5    80.775690\n",
       "2                              KNN for neighbors =22    80.450486\n",
       "3  DT (max depth=1, min_samples_leaf=1, min_sampl...    80.938291"
      ]
     },
     "execution_count": 75,
     "metadata": {},
     "output_type": "execute_result"
    }
   ],
   "source": [
    "# now lets annalyze the models\n",
    "Score_Table"
   ]
  },
  {
   "cell_type": "markdown",
   "metadata": {},
   "source": [
    "So the best model for this data is logistic regression with gives an accuracy of 81%\n",
    "\n",
    "Now lets build the final model using logistic regression and predict for test data"
   ]
  },
  {
   "cell_type": "code",
   "execution_count": 76,
   "metadata": {},
   "outputs": [],
   "source": [
    "# Do all the data processing steps that were done before\n",
    "loan=pd.read_excel(\"Project - 4 - Train Data.xlsx\")\n",
    "loan=loan.drop(['Loanapp_ID','first_name','last_name','email','address','INT_ID','Prev_ID','AGT_ID'],axis=1)\n",
    "loan.CPL_Amount.fillna(loan['CPL_Amount'].mean(),inplace=True)\n",
    "loan.CPL_Term.fillna(loan['CPL_Term'].mean(),inplace=True)\n",
    "loan.Credit_His.fillna(loan['Credit_His'].mean(),inplace=True)\n",
    "loan.isnull().sum()\n",
    "loan['Sex']=loan.Sex.map({'M':1,'F':0})\n",
    "loan['Marital_Status']=loan.Marital_Status.map({'Y':1,'N':0})\n",
    "loan['Dependents']=loan.Dependents.map({0:0,1:1,2:2,'3+':3})\n",
    "loan['SE']=loan.SE.map({'Y':1,'N':0})\n",
    "loan['Qual_var']=loan.Qual_var.map({'Grad':1,'Non Grad':0})\n",
    "loan['CPL_Status']=loan.CPL_Status.map({'Y':1,'N':0})\n",
    "prop_area=pd.get_dummies(loan['Prop_Area'],prefix='Prop_Area',drop_first=True)\n",
    "loan=pd.concat([loan,prop_area],axis=1)\n",
    "loan=loan.drop('Prop_Area',axis=1)\n",
    "mode=loan.mode(axis=0)\n",
    "loan['Sex'].fillna(mode.iloc[0,0],inplace=True)\n",
    "loan['Marital_Status'].fillna(mode.iloc[0,1],inplace=True)\n",
    "loan['Dependents'].fillna(mode.iloc[0,2],inplace=True)\n",
    "loan['SE'].fillna(mode.iloc[0,4],inplace=True)"
   ]
  },
  {
   "cell_type": "code",
   "execution_count": 77,
   "metadata": {},
   "outputs": [],
   "source": [
    "# divide the data into X and Y\n",
    "X_train=loan.drop('CPL_Status',axis=1)\n",
    "Y_train=loan['CPL_Status']\n"
   ]
  },
  {
   "cell_type": "code",
   "execution_count": 78,
   "metadata": {},
   "outputs": [],
   "source": [
    "# scale data by using scale function\n",
    "X_train=scale(X_train)\n",
    "X_test=scale(X_test)"
   ]
  },
  {
   "cell_type": "code",
   "execution_count": 79,
   "metadata": {},
   "outputs": [
    {
     "data": {
      "text/plain": [
       "LogisticRegression(C=1.0, class_weight=None, dual=False, fit_intercept=True,\n",
       "                   intercept_scaling=1, l1_ratio=None, max_iter=200,\n",
       "                   multi_class='auto', n_jobs=None, penalty='l2',\n",
       "                   random_state=None, solver='lbfgs', tol=0.0001, verbose=0,\n",
       "                   warm_start=False)"
      ]
     },
     "execution_count": 79,
     "metadata": {},
     "output_type": "execute_result"
    }
   ],
   "source": [
    "# declare the logistic regression object\n",
    "LR=LogisticRegression(max_iter=200)\n",
    "# fit the train data \n",
    "LR.fit(X_train,Y_train)"
   ]
  },
  {
   "cell_type": "code",
   "execution_count": 80,
   "metadata": {},
   "outputs": [],
   "source": [
    "# predict the CPL amount for the test data \n",
    "Y_pred=LR.predict(X_test)"
   ]
  },
  {
   "cell_type": "code",
   "execution_count": 81,
   "metadata": {},
   "outputs": [],
   "source": [
    "# Convert the predicted data into dataframe\n",
    "Y_pred=pd.DataFrame(Y_pred)"
   ]
  },
  {
   "cell_type": "code",
   "execution_count": 82,
   "metadata": {},
   "outputs": [],
   "source": [
    "Y=pd.DataFrame(columns=['Predicted CPL Status'])\n",
    "# map 1 to Y and 0 to N\n",
    "Y=Y_pred.loc[:,0].map(lambda x:'Y' if x==1 else 'N')"
   ]
  },
  {
   "cell_type": "code",
   "execution_count": 83,
   "metadata": {},
   "outputs": [],
   "source": [
    "# export the predicted data into an excel sheet \n",
    "Y.to_excel(\"Predicted CPL Status.xlsx\")"
   ]
  },
  {
   "cell_type": "markdown",
   "metadata": {},
   "source": [
    "End                                                                                                                                  \n",
    "Thank you,"
   ]
  }
 ],
 "metadata": {
  "kernelspec": {
   "display_name": "Python 3",
   "language": "python",
   "name": "python3"
  },
  "language_info": {
   "codemirror_mode": {
    "name": "ipython",
    "version": 3
   },
   "file_extension": ".py",
   "mimetype": "text/x-python",
   "name": "python",
   "nbconvert_exporter": "python",
   "pygments_lexer": "ipython3",
   "version": "3.7.6"
  }
 },
 "nbformat": 4,
 "nbformat_minor": 4
}
